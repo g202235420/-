{
 "cells": [
  {
   "cell_type": "markdown",
   "id": "167419e9",
   "metadata": {},
   "source": [
    "HAR70+(Human Activity Recognition 70+)Dataset"
   ]
  },
  {
   "cell_type": "raw",
   "id": "da91d378",
   "metadata": {},
   "source": [
    "HAR CNN training"
   ]
  },
  {
   "cell_type": "code",
   "execution_count": 1,
   "id": "a8bc61ef",
   "metadata": {},
   "outputs": [
    {
     "name": "stderr",
     "output_type": "stream",
     "text": [
      "C:\\Users\\82109\\anaconda3\\lib\\site-packages\\scipy\\__init__.py:146: UserWarning: A NumPy version >=1.16.5 and <1.23.0 is required for this version of SciPy (detected version 1.24.2\n",
      "  warnings.warn(f\"A NumPy version >={np_minversion} and <{np_maxversion}\"\n"
     ]
    }
   ],
   "source": [
    "#imports\n",
    "import numpy as np\n",
    "import pandas as pd\n",
    "import seaborn as sns\n",
    "import matplotlib.pyplot as plt\n",
    "from sklearn.preprocessing import LabelEncoder\n",
    "from sklearn.model_selection import train_test_split\n",
    "from keras.models import Sequential\n",
    "from keras.layers import Dense\n",
    "from keras.optimizers import SGD,Adam\n",
    "from sklearn.metrics import classification_report,confusion_matrix"
   ]
  },
  {
   "cell_type": "code",
   "execution_count": 2,
   "id": "1ce2c11d",
   "metadata": {},
   "outputs": [],
   "source": [
    "data = pd.read_csv('501.csv')"
   ]
  },
  {
   "cell_type": "code",
   "execution_count": 3,
   "id": "8ff495e8",
   "metadata": {},
   "outputs": [
    {
     "data": {
      "text/html": [
       "<div>\n",
       "<style scoped>\n",
       "    .dataframe tbody tr th:only-of-type {\n",
       "        vertical-align: middle;\n",
       "    }\n",
       "\n",
       "    .dataframe tbody tr th {\n",
       "        vertical-align: top;\n",
       "    }\n",
       "\n",
       "    .dataframe thead th {\n",
       "        text-align: right;\n",
       "    }\n",
       "</style>\n",
       "<table border=\"1\" class=\"dataframe\">\n",
       "  <thead>\n",
       "    <tr style=\"text-align: right;\">\n",
       "      <th></th>\n",
       "      <th>timestamp</th>\n",
       "      <th>back_x</th>\n",
       "      <th>back_y</th>\n",
       "      <th>back_z</th>\n",
       "      <th>thigh_x</th>\n",
       "      <th>thigh_y</th>\n",
       "      <th>thigh_z</th>\n",
       "      <th>label</th>\n",
       "    </tr>\n",
       "  </thead>\n",
       "  <tbody>\n",
       "    <tr>\n",
       "      <th>0</th>\n",
       "      <td>2021-03-24 14:42:03.839</td>\n",
       "      <td>-0.999023</td>\n",
       "      <td>-0.063477</td>\n",
       "      <td>0.140625</td>\n",
       "      <td>-0.980469</td>\n",
       "      <td>-0.112061</td>\n",
       "      <td>-0.048096</td>\n",
       "      <td>6</td>\n",
       "    </tr>\n",
       "    <tr>\n",
       "      <th>1</th>\n",
       "      <td>2021-03-24 14:42:03.859</td>\n",
       "      <td>-0.980225</td>\n",
       "      <td>-0.079346</td>\n",
       "      <td>0.140625</td>\n",
       "      <td>-0.961182</td>\n",
       "      <td>-0.121582</td>\n",
       "      <td>-0.051758</td>\n",
       "      <td>6</td>\n",
       "    </tr>\n",
       "    <tr>\n",
       "      <th>2</th>\n",
       "      <td>2021-03-24 14:42:03.880</td>\n",
       "      <td>-0.950195</td>\n",
       "      <td>-0.076416</td>\n",
       "      <td>0.140625</td>\n",
       "      <td>-0.949463</td>\n",
       "      <td>-0.080566</td>\n",
       "      <td>-0.067139</td>\n",
       "      <td>6</td>\n",
       "    </tr>\n",
       "    <tr>\n",
       "      <th>3</th>\n",
       "      <td>2021-03-24 14:42:03.900</td>\n",
       "      <td>-0.954834</td>\n",
       "      <td>-0.059082</td>\n",
       "      <td>0.140381</td>\n",
       "      <td>-0.957520</td>\n",
       "      <td>-0.046143</td>\n",
       "      <td>-0.050781</td>\n",
       "      <td>6</td>\n",
       "    </tr>\n",
       "    <tr>\n",
       "      <th>4</th>\n",
       "      <td>2021-03-24 14:42:03.920</td>\n",
       "      <td>-0.972412</td>\n",
       "      <td>-0.042969</td>\n",
       "      <td>0.142822</td>\n",
       "      <td>-0.977051</td>\n",
       "      <td>-0.023682</td>\n",
       "      <td>-0.026611</td>\n",
       "      <td>6</td>\n",
       "    </tr>\n",
       "    <tr>\n",
       "      <th>...</th>\n",
       "      <td>...</td>\n",
       "      <td>...</td>\n",
       "      <td>...</td>\n",
       "      <td>...</td>\n",
       "      <td>...</td>\n",
       "      <td>...</td>\n",
       "      <td>...</td>\n",
       "      <td>...</td>\n",
       "    </tr>\n",
       "    <tr>\n",
       "      <th>103855</th>\n",
       "      <td>2021-03-24 15:17:05.980</td>\n",
       "      <td>-0.760010</td>\n",
       "      <td>-0.068848</td>\n",
       "      <td>-0.203125</td>\n",
       "      <td>-0.796875</td>\n",
       "      <td>-0.007812</td>\n",
       "      <td>-0.036865</td>\n",
       "      <td>6</td>\n",
       "    </tr>\n",
       "    <tr>\n",
       "      <th>103856</th>\n",
       "      <td>2021-03-24 15:17:06.000</td>\n",
       "      <td>-0.736328</td>\n",
       "      <td>-0.068115</td>\n",
       "      <td>-0.203125</td>\n",
       "      <td>-0.769287</td>\n",
       "      <td>0.037354</td>\n",
       "      <td>-0.056641</td>\n",
       "      <td>6</td>\n",
       "    </tr>\n",
       "    <tr>\n",
       "      <th>103857</th>\n",
       "      <td>2021-03-24 15:17:06.019</td>\n",
       "      <td>-0.736328</td>\n",
       "      <td>-0.079834</td>\n",
       "      <td>-0.203125</td>\n",
       "      <td>-0.763672</td>\n",
       "      <td>0.052490</td>\n",
       "      <td>-0.027588</td>\n",
       "      <td>6</td>\n",
       "    </tr>\n",
       "    <tr>\n",
       "      <th>103858</th>\n",
       "      <td>2021-03-24 15:17:06.039</td>\n",
       "      <td>-0.762207</td>\n",
       "      <td>-0.078125</td>\n",
       "      <td>-0.205078</td>\n",
       "      <td>-0.763428</td>\n",
       "      <td>0.042236</td>\n",
       "      <td>0.022705</td>\n",
       "      <td>6</td>\n",
       "    </tr>\n",
       "    <tr>\n",
       "      <th>103859</th>\n",
       "      <td>2021-03-24 15:17:06.059</td>\n",
       "      <td>-0.799805</td>\n",
       "      <td>-0.078125</td>\n",
       "      <td>-0.196533</td>\n",
       "      <td>-0.770264</td>\n",
       "      <td>0.013428</td>\n",
       "      <td>0.081543</td>\n",
       "      <td>6</td>\n",
       "    </tr>\n",
       "  </tbody>\n",
       "</table>\n",
       "<p>103860 rows × 8 columns</p>\n",
       "</div>"
      ],
      "text/plain": [
       "                      timestamp    back_x    back_y    back_z   thigh_x  \\\n",
       "0       2021-03-24 14:42:03.839 -0.999023 -0.063477  0.140625 -0.980469   \n",
       "1       2021-03-24 14:42:03.859 -0.980225 -0.079346  0.140625 -0.961182   \n",
       "2       2021-03-24 14:42:03.880 -0.950195 -0.076416  0.140625 -0.949463   \n",
       "3       2021-03-24 14:42:03.900 -0.954834 -0.059082  0.140381 -0.957520   \n",
       "4       2021-03-24 14:42:03.920 -0.972412 -0.042969  0.142822 -0.977051   \n",
       "...                         ...       ...       ...       ...       ...   \n",
       "103855  2021-03-24 15:17:05.980 -0.760010 -0.068848 -0.203125 -0.796875   \n",
       "103856  2021-03-24 15:17:06.000 -0.736328 -0.068115 -0.203125 -0.769287   \n",
       "103857  2021-03-24 15:17:06.019 -0.736328 -0.079834 -0.203125 -0.763672   \n",
       "103858  2021-03-24 15:17:06.039 -0.762207 -0.078125 -0.205078 -0.763428   \n",
       "103859  2021-03-24 15:17:06.059 -0.799805 -0.078125 -0.196533 -0.770264   \n",
       "\n",
       "         thigh_y   thigh_z  label  \n",
       "0      -0.112061 -0.048096      6  \n",
       "1      -0.121582 -0.051758      6  \n",
       "2      -0.080566 -0.067139      6  \n",
       "3      -0.046143 -0.050781      6  \n",
       "4      -0.023682 -0.026611      6  \n",
       "...          ...       ...    ...  \n",
       "103855 -0.007812 -0.036865      6  \n",
       "103856  0.037354 -0.056641      6  \n",
       "103857  0.052490 -0.027588      6  \n",
       "103858  0.042236  0.022705      6  \n",
       "103859  0.013428  0.081543      6  \n",
       "\n",
       "[103860 rows x 8 columns]"
      ]
     },
     "execution_count": 3,
     "metadata": {},
     "output_type": "execute_result"
    }
   ],
   "source": [
    "data"
   ]
  },
  {
   "cell_type": "code",
   "execution_count": 4,
   "id": "ccd629a1",
   "metadata": {
    "scrolled": true
   },
   "outputs": [
    {
     "data": {
      "text/plain": [
       "timestamp    0\n",
       "back_x       0\n",
       "back_y       0\n",
       "back_z       0\n",
       "thigh_x      0\n",
       "thigh_y      0\n",
       "thigh_z      0\n",
       "label        0\n",
       "dtype: int64"
      ]
     },
     "execution_count": 4,
     "metadata": {},
     "output_type": "execute_result"
    }
   ],
   "source": [
    "data.isna().sum()"
   ]
  },
  {
   "cell_type": "code",
   "execution_count": 5,
   "id": "dbca16b1",
   "metadata": {},
   "outputs": [],
   "source": [
    "data=data.dropna()"
   ]
  },
  {
   "cell_type": "code",
   "execution_count": 6,
   "id": "912cef59",
   "metadata": {},
   "outputs": [
    {
     "data": {
      "text/plain": [
       "timestamp    0\n",
       "back_x       0\n",
       "back_y       0\n",
       "back_z       0\n",
       "thigh_x      0\n",
       "thigh_y      0\n",
       "thigh_z      0\n",
       "label        0\n",
       "dtype: int64"
      ]
     },
     "execution_count": 6,
     "metadata": {},
     "output_type": "execute_result"
    }
   ],
   "source": [
    "data.isna().sum()"
   ]
  },
  {
   "cell_type": "code",
   "execution_count": 7,
   "id": "cb700a3f",
   "metadata": {},
   "outputs": [
    {
     "data": {
      "text/plain": [
       "1    62872\n",
       "7    14562\n",
       "6    14376\n",
       "8     9578\n",
       "3     1876\n",
       "5      504\n",
       "4       92\n",
       "Name: label, dtype: int64"
      ]
     },
     "execution_count": 7,
     "metadata": {},
     "output_type": "execute_result"
    }
   ],
   "source": [
    "data['label'].value_counts()"
   ]
  },
  {
   "cell_type": "code",
   "execution_count": 8,
   "id": "a0863c16",
   "metadata": {},
   "outputs": [
    {
     "data": {
      "text/plain": [
       "Text(0.5, 1.0, 'label')"
      ]
     },
     "execution_count": 8,
     "metadata": {},
     "output_type": "execute_result"
    },
    {
     "data": {
      "image/png": "[encoded data removed]",
      "text/plain": [
       "<Figure size 640x480 with 1 Axes>"
      ]
     },
     "metadata": {},
     "output_type": "display_data"
    }
   ],
   "source": [
    "sns.countplot(data=data,x='label')\n",
    "plt.xlabel('label')\n",
    "plt.ylabel('Count')\n",
    "plt.title('label')"
   ]
  },
  {
   "cell_type": "code",
   "execution_count": 9,
   "id": "896cce87",
   "metadata": {},
   "outputs": [],
   "source": [
    "data=data.sample(frac=0.05)"
   ]
  },
  {
   "cell_type": "code",
   "execution_count": 10,
   "id": "c3cf63a2",
   "metadata": {},
   "outputs": [
    {
     "data": {
      "text/html": [
       "<div>\n",
       "<style scoped>\n",
       "    .dataframe tbody tr th:only-of-type {\n",
       "        vertical-align: middle;\n",
       "    }\n",
       "\n",
       "    .dataframe tbody tr th {\n",
       "        vertical-align: top;\n",
       "    }\n",
       "\n",
       "    .dataframe thead th {\n",
       "        text-align: right;\n",
       "    }\n",
       "</style>\n",
       "<table border=\"1\" class=\"dataframe\">\n",
       "  <thead>\n",
       "    <tr style=\"text-align: right;\">\n",
       "      <th></th>\n",
       "      <th>timestamp</th>\n",
       "      <th>back_x</th>\n",
       "      <th>back_y</th>\n",
       "      <th>back_z</th>\n",
       "      <th>thigh_x</th>\n",
       "      <th>thigh_y</th>\n",
       "      <th>thigh_z</th>\n",
       "      <th>label</th>\n",
       "    </tr>\n",
       "  </thead>\n",
       "  <tbody>\n",
       "    <tr>\n",
       "      <th>49363</th>\n",
       "      <td>2021-03-24 14:58:53.220</td>\n",
       "      <td>-0.906250</td>\n",
       "      <td>-0.033447</td>\n",
       "      <td>-0.111816</td>\n",
       "      <td>-0.937256</td>\n",
       "      <td>-0.135742</td>\n",
       "      <td>0.063477</td>\n",
       "      <td>1</td>\n",
       "    </tr>\n",
       "    <tr>\n",
       "      <th>89853</th>\n",
       "      <td>2021-03-24 15:12:23.020</td>\n",
       "      <td>-0.689697</td>\n",
       "      <td>-0.031494</td>\n",
       "      <td>-0.205078</td>\n",
       "      <td>-0.959717</td>\n",
       "      <td>-0.232178</td>\n",
       "      <td>-0.253906</td>\n",
       "      <td>1</td>\n",
       "    </tr>\n",
       "    <tr>\n",
       "      <th>82563</th>\n",
       "      <td>2021-03-24 15:09:57.220</td>\n",
       "      <td>-0.827881</td>\n",
       "      <td>-0.249023</td>\n",
       "      <td>-0.155273</td>\n",
       "      <td>-0.465332</td>\n",
       "      <td>-0.009766</td>\n",
       "      <td>0.267090</td>\n",
       "      <td>1</td>\n",
       "    </tr>\n",
       "    <tr>\n",
       "      <th>41344</th>\n",
       "      <td>2021-03-24 14:56:12.840</td>\n",
       "      <td>-0.682617</td>\n",
       "      <td>-0.131836</td>\n",
       "      <td>0.043457</td>\n",
       "      <td>-0.264893</td>\n",
       "      <td>0.155762</td>\n",
       "      <td>-0.655273</td>\n",
       "      <td>1</td>\n",
       "    </tr>\n",
       "    <tr>\n",
       "      <th>16118</th>\n",
       "      <td>2021-03-24 14:47:29.399</td>\n",
       "      <td>-1.000000</td>\n",
       "      <td>-0.062500</td>\n",
       "      <td>0.015869</td>\n",
       "      <td>-0.953125</td>\n",
       "      <td>0.000000</td>\n",
       "      <td>0.078125</td>\n",
       "      <td>6</td>\n",
       "    </tr>\n",
       "    <tr>\n",
       "      <th>...</th>\n",
       "      <td>...</td>\n",
       "      <td>...</td>\n",
       "      <td>...</td>\n",
       "      <td>...</td>\n",
       "      <td>...</td>\n",
       "      <td>...</td>\n",
       "      <td>...</td>\n",
       "      <td>...</td>\n",
       "    </tr>\n",
       "    <tr>\n",
       "      <th>100524</th>\n",
       "      <td>2021-03-24 15:15:57.439</td>\n",
       "      <td>-0.781250</td>\n",
       "      <td>-0.062500</td>\n",
       "      <td>0.533691</td>\n",
       "      <td>-0.187500</td>\n",
       "      <td>-0.202637</td>\n",
       "      <td>-1.062500</td>\n",
       "      <td>7</td>\n",
       "    </tr>\n",
       "    <tr>\n",
       "      <th>55807</th>\n",
       "      <td>2021-03-24 15:01:02.099</td>\n",
       "      <td>-0.786865</td>\n",
       "      <td>-0.169434</td>\n",
       "      <td>-0.132812</td>\n",
       "      <td>-0.636475</td>\n",
       "      <td>-0.059082</td>\n",
       "      <td>0.242920</td>\n",
       "      <td>1</td>\n",
       "    </tr>\n",
       "    <tr>\n",
       "      <th>103843</th>\n",
       "      <td>2021-03-24 15:17:05.739</td>\n",
       "      <td>-1.044434</td>\n",
       "      <td>-0.046143</td>\n",
       "      <td>-0.151855</td>\n",
       "      <td>-1.030762</td>\n",
       "      <td>-0.071045</td>\n",
       "      <td>0.093506</td>\n",
       "      <td>6</td>\n",
       "    </tr>\n",
       "    <tr>\n",
       "      <th>92176</th>\n",
       "      <td>2021-03-24 15:13:09.479</td>\n",
       "      <td>-1.394531</td>\n",
       "      <td>-0.353271</td>\n",
       "      <td>-0.585693</td>\n",
       "      <td>-0.342529</td>\n",
       "      <td>0.012695</td>\n",
       "      <td>0.703125</td>\n",
       "      <td>1</td>\n",
       "    </tr>\n",
       "    <tr>\n",
       "      <th>51442</th>\n",
       "      <td>2021-03-24 14:59:34.799</td>\n",
       "      <td>-0.802490</td>\n",
       "      <td>-0.284912</td>\n",
       "      <td>-0.130859</td>\n",
       "      <td>-0.596680</td>\n",
       "      <td>-0.242188</td>\n",
       "      <td>0.383301</td>\n",
       "      <td>1</td>\n",
       "    </tr>\n",
       "  </tbody>\n",
       "</table>\n",
       "<p>5193 rows × 8 columns</p>\n",
       "</div>"
      ],
      "text/plain": [
       "                      timestamp    back_x    back_y    back_z   thigh_x  \\\n",
       "49363   2021-03-24 14:58:53.220 -0.906250 -0.033447 -0.111816 -0.937256   \n",
       "89853   2021-03-24 15:12:23.020 -0.689697 -0.031494 -0.205078 -0.959717   \n",
       "82563   2021-03-24 15:09:57.220 -0.827881 -0.249023 -0.155273 -0.465332   \n",
       "41344   2021-03-24 14:56:12.840 -0.682617 -0.131836  0.043457 -0.264893   \n",
       "16118   2021-03-24 14:47:29.399 -1.000000 -0.062500  0.015869 -0.953125   \n",
       "...                         ...       ...       ...       ...       ...   \n",
       "100524  2021-03-24 15:15:57.439 -0.781250 -0.062500  0.533691 -0.187500   \n",
       "55807   2021-03-24 15:01:02.099 -0.786865 -0.169434 -0.132812 -0.636475   \n",
       "103843  2021-03-24 15:17:05.739 -1.044434 -0.046143 -0.151855 -1.030762   \n",
       "92176   2021-03-24 15:13:09.479 -1.394531 -0.353271 -0.585693 -0.342529   \n",
       "51442   2021-03-24 14:59:34.799 -0.802490 -0.284912 -0.130859 -0.596680   \n",
       "\n",
       "         thigh_y   thigh_z  label  \n",
       "49363  -0.135742  0.063477      1  \n",
       "89853  -0.232178 -0.253906      1  \n",
       "82563  -0.009766  0.267090      1  \n",
       "41344   0.155762 -0.655273      1  \n",
       "16118   0.000000  0.078125      6  \n",
       "...          ...       ...    ...  \n",
       "100524 -0.202637 -1.062500      7  \n",
       "55807  -0.059082  0.242920      1  \n",
       "103843 -0.071045  0.093506      6  \n",
       "92176   0.012695  0.703125      1  \n",
       "51442  -0.242188  0.383301      1  \n",
       "\n",
       "[5193 rows x 8 columns]"
      ]
     },
     "execution_count": 10,
     "metadata": {},
     "output_type": "execute_result"
    }
   ],
   "source": [
    "data"
   ]
  },
  {
   "cell_type": "code",
   "execution_count": 11,
   "id": "13f8438a",
   "metadata": {},
   "outputs": [],
   "source": [
    "X=data.iloc[:,1:7].values\n",
    "y=data.iloc[:,7].values"
   ]
  },
  {
   "cell_type": "code",
   "execution_count": 12,
   "id": "9fd3cd31",
   "metadata": {},
   "outputs": [],
   "source": [
    "encoder=LabelEncoder()\n",
    "y1=encoder.fit_transform(y)\n",
    "Y=pd.get_dummies(y1).values"
   ]
  },
  {
   "cell_type": "code",
   "execution_count": 13,
   "id": "82a07d90",
   "metadata": {},
   "outputs": [],
   "source": [
    "X_train,X_test,y_train,y_test = train_test_split(X,Y,test_size=0.2,random_state=0)"
   ]
  },
  {
   "cell_type": "code",
   "execution_count": 14,
   "id": "4b9b046f",
   "metadata": {},
   "outputs": [
    {
     "data": {
      "text/plain": [
       "array([[-0.90625 , -0.033447, -0.111816, -0.937256, -0.135742,  0.063477],\n",
       "       [-0.689697, -0.031494, -0.205078, -0.959717, -0.232178, -0.253906],\n",
       "       [-0.827881, -0.249023, -0.155273, -0.465332, -0.009766,  0.26709 ],\n",
       "       ...,\n",
       "       [-1.044434, -0.046143, -0.151855, -1.030762, -0.071045,  0.093506],\n",
       "       [-1.394531, -0.353271, -0.585693, -0.342529,  0.012695,  0.703125],\n",
       "       [-0.80249 , -0.284912, -0.130859, -0.59668 , -0.242188,  0.383301]])"
      ]
     },
     "execution_count": 14,
     "metadata": {},
     "output_type": "execute_result"
    }
   ],
   "source": [
    "X"
   ]
  },
  {
   "cell_type": "code",
   "execution_count": 15,
   "id": "79e47562",
   "metadata": {},
   "outputs": [
    {
     "data": {
      "text/plain": [
       "(5193, 6)"
      ]
     },
     "execution_count": 15,
     "metadata": {},
     "output_type": "execute_result"
    }
   ],
   "source": [
    "X.shape"
   ]
  },
  {
   "cell_type": "code",
   "execution_count": 16,
   "id": "a0490441",
   "metadata": {},
   "outputs": [
    {
     "data": {
      "text/plain": [
       "array([[1, 0, 0, ..., 0, 0, 0],\n",
       "       [1, 0, 0, ..., 0, 0, 0],\n",
       "       [1, 0, 0, ..., 0, 0, 0],\n",
       "       ...,\n",
       "       [0, 0, 0, ..., 1, 0, 0],\n",
       "       [1, 0, 0, ..., 0, 0, 0],\n",
       "       [1, 0, 0, ..., 0, 0, 0]], dtype=uint8)"
      ]
     },
     "execution_count": 16,
     "metadata": {},
     "output_type": "execute_result"
    }
   ],
   "source": [
    "Y"
   ]
  },
  {
   "cell_type": "code",
   "execution_count": 17,
   "id": "27f5a5b9",
   "metadata": {},
   "outputs": [
    {
     "data": {
      "text/plain": [
       "(5193, 7)"
      ]
     },
     "execution_count": 17,
     "metadata": {},
     "output_type": "execute_result"
    }
   ],
   "source": [
    "Y.shape"
   ]
  },
  {
   "cell_type": "code",
   "execution_count": 18,
   "id": "17084d81",
   "metadata": {},
   "outputs": [
    {
     "name": "stdout",
     "output_type": "stream",
     "text": [
      "Model: \"sequential\"\n",
      "_________________________________________________________________\n",
      " Layer (type)                Output Shape              Param #   \n",
      "=================================================================\n",
      " dense (Dense)               (None, 60)                420       \n",
      "                                                                 \n",
      " dense_1 (Dense)             (None, 60)                3660      \n",
      "                                                                 \n",
      " dense_2 (Dense)             (None, 40)                2440      \n",
      "                                                                 \n",
      " dense_3 (Dense)             (None, 40)                1640      \n",
      "                                                                 \n",
      " dense_4 (Dense)             (None, 7)                 287       \n",
      "                                                                 \n",
      "=================================================================\n",
      "Total params: 8,447\n",
      "Trainable params: 8,447\n",
      "Non-trainable params: 0\n",
      "_________________________________________________________________\n"
     ]
    },
    {
     "name": "stderr",
     "output_type": "stream",
     "text": [
      "C:\\Users\\82109\\anaconda3\\lib\\site-packages\\keras\\optimizers\\legacy\\adam.py:117: UserWarning: The `lr` argument is deprecated, use `learning_rate` instead.\n",
      "  super().__init__(name, **kwargs)\n"
     ]
    }
   ],
   "source": [
    "model = Sequential()\n",
    "\n",
    "model.add(Dense(60,input_shape=(6,),activation='ReLU'))\n",
    "model.add(Dense(60,activation='ReLU'))\n",
    "model.add(Dense(40,activation='ReLU'))\n",
    "model.add(Dense(40,activation='ReLU'))\n",
    "model.add(Dense(7,activation='softmax'))\n",
    "\n",
    "model.compile(Adam(lr=0.04),'categorical_crossentropy',metrics=['accuracy'])\n",
    "\n",
    "model.summary()"
   ]
  },
  {
   "cell_type": "code",
   "execution_count": 19,
   "id": "bf1b8088",
   "metadata": {},
   "outputs": [
    {
     "name": "stdout",
     "output_type": "stream",
     "text": [
      "Epoch 1/100\n",
      "130/130 [==============================] - 2s 8ms/step - loss: 0.4425 - accuracy: 0.8613 - val_loss: 0.2599 - val_accuracy: 0.9394\n",
      "Epoch 2/100\n",
      "130/130 [==============================] - 1s 4ms/step - loss: 0.4268 - accuracy: 0.9042 - val_loss: 0.2722 - val_accuracy: 0.9076\n",
      "Epoch 3/100\n",
      "130/130 [==============================] - 1s 5ms/step - loss: 0.2469 - accuracy: 0.9302 - val_loss: 0.2104 - val_accuracy: 0.9500\n",
      "Epoch 4/100\n",
      "130/130 [==============================] - 1s 4ms/step - loss: 0.2343 - accuracy: 0.9413 - val_loss: 0.2931 - val_accuracy: 0.9278\n",
      "Epoch 5/100\n",
      "130/130 [==============================] - 1s 5ms/step - loss: 0.2121 - accuracy: 0.9410 - val_loss: 0.2084 - val_accuracy: 0.9480\n",
      "Epoch 6/100\n",
      "130/130 [==============================] - 1s 5ms/step - loss: 0.2193 - accuracy: 0.9381 - val_loss: 0.1697 - val_accuracy: 0.9567\n",
      "Epoch 7/100\n",
      "130/130 [==============================] - 1s 4ms/step - loss: 0.1841 - accuracy: 0.9494 - val_loss: 0.2207 - val_accuracy: 0.9442\n",
      "Epoch 8/100\n",
      "130/130 [==============================] - 1s 4ms/step - loss: 0.1824 - accuracy: 0.9528 - val_loss: 0.1793 - val_accuracy: 0.9471\n",
      "Epoch 9/100\n",
      "130/130 [==============================] - 1s 4ms/step - loss: 0.1934 - accuracy: 0.9497 - val_loss: 0.1792 - val_accuracy: 0.9528\n",
      "Epoch 10/100\n",
      "130/130 [==============================] - 1s 4ms/step - loss: 0.2364 - accuracy: 0.9456 - val_loss: 0.2425 - val_accuracy: 0.9365\n",
      "Epoch 11/100\n",
      "130/130 [==============================] - 1s 5ms/step - loss: 0.1895 - accuracy: 0.9526 - val_loss: 0.1990 - val_accuracy: 0.9500\n",
      "Epoch 12/100\n",
      "130/130 [==============================] - 0s 4ms/step - loss: 0.7647 - accuracy: 0.9006 - val_loss: 0.2012 - val_accuracy: 0.9423\n",
      "Epoch 13/100\n",
      "130/130 [==============================] - 1s 6ms/step - loss: 0.3334 - accuracy: 0.9112 - val_loss: 0.2786 - val_accuracy: 0.9480\n",
      "Epoch 14/100\n",
      "130/130 [==============================] - 1s 5ms/step - loss: 0.3164 - accuracy: 0.9208 - val_loss: 0.2934 - val_accuracy: 0.9018\n",
      "Epoch 15/100\n",
      "130/130 [==============================] - 1s 4ms/step - loss: 0.2669 - accuracy: 0.9244 - val_loss: 0.1985 - val_accuracy: 0.9471\n",
      "Epoch 16/100\n",
      "130/130 [==============================] - 1s 5ms/step - loss: 0.2179 - accuracy: 0.9420 - val_loss: 0.1819 - val_accuracy: 0.9557\n",
      "Epoch 17/100\n",
      "130/130 [==============================] - 1s 4ms/step - loss: 0.1794 - accuracy: 0.9528 - val_loss: 0.1694 - val_accuracy: 0.9500\n",
      "Epoch 18/100\n",
      "130/130 [==============================] - 1s 4ms/step - loss: 0.1758 - accuracy: 0.9514 - val_loss: 0.2037 - val_accuracy: 0.9490\n",
      "Epoch 19/100\n",
      "130/130 [==============================] - 1s 4ms/step - loss: 0.1962 - accuracy: 0.9487 - val_loss: 0.1687 - val_accuracy: 0.9509\n",
      "Epoch 20/100\n",
      "130/130 [==============================] - 1s 5ms/step - loss: 0.1842 - accuracy: 0.9528 - val_loss: 0.1675 - val_accuracy: 0.9480\n",
      "Epoch 21/100\n",
      "130/130 [==============================] - 1s 5ms/step - loss: 0.2024 - accuracy: 0.9487 - val_loss: 0.1883 - val_accuracy: 0.9500\n",
      "Epoch 22/100\n",
      "130/130 [==============================] - 1s 5ms/step - loss: 0.1872 - accuracy: 0.9487 - val_loss: 0.1934 - val_accuracy: 0.9471\n",
      "Epoch 23/100\n",
      "130/130 [==============================] - 1s 4ms/step - loss: 0.1800 - accuracy: 0.9502 - val_loss: 0.1627 - val_accuracy: 0.9538\n",
      "Epoch 24/100\n",
      "130/130 [==============================] - 1s 4ms/step - loss: 0.1676 - accuracy: 0.9547 - val_loss: 0.1717 - val_accuracy: 0.9509\n",
      "Epoch 25/100\n",
      "130/130 [==============================] - 0s 4ms/step - loss: 0.1654 - accuracy: 0.9550 - val_loss: 0.1737 - val_accuracy: 0.9528\n",
      "Epoch 26/100\n",
      "130/130 [==============================] - 0s 4ms/step - loss: 0.1836 - accuracy: 0.9461 - val_loss: 0.1694 - val_accuracy: 0.9567\n",
      "Epoch 27/100\n",
      "130/130 [==============================] - 0s 4ms/step - loss: 0.1961 - accuracy: 0.9502 - val_loss: 0.1741 - val_accuracy: 0.9577\n",
      "Epoch 28/100\n",
      "130/130 [==============================] - 1s 4ms/step - loss: 0.1832 - accuracy: 0.9538 - val_loss: 0.1808 - val_accuracy: 0.9519\n",
      "Epoch 29/100\n",
      "130/130 [==============================] - 1s 4ms/step - loss: 0.1644 - accuracy: 0.9552 - val_loss: 0.1896 - val_accuracy: 0.9538\n",
      "Epoch 30/100\n",
      "130/130 [==============================] - 1s 4ms/step - loss: 0.1602 - accuracy: 0.9608 - val_loss: 0.2634 - val_accuracy: 0.9413\n",
      "Epoch 31/100\n",
      "130/130 [==============================] - 0s 4ms/step - loss: 0.1719 - accuracy: 0.9533 - val_loss: 0.1799 - val_accuracy: 0.9528\n",
      "Epoch 32/100\n",
      "130/130 [==============================] - 0s 4ms/step - loss: 0.1679 - accuracy: 0.9550 - val_loss: 0.1905 - val_accuracy: 0.9548\n",
      "Epoch 33/100\n",
      "130/130 [==============================] - 0s 4ms/step - loss: 0.1749 - accuracy: 0.9511 - val_loss: 0.1558 - val_accuracy: 0.9557\n",
      "Epoch 34/100\n",
      "130/130 [==============================] - 0s 4ms/step - loss: 0.1637 - accuracy: 0.9579 - val_loss: 0.1579 - val_accuracy: 0.9615\n",
      "Epoch 35/100\n",
      "130/130 [==============================] - 0s 4ms/step - loss: 0.1754 - accuracy: 0.9494 - val_loss: 0.1657 - val_accuracy: 0.9557\n",
      "Epoch 36/100\n",
      "130/130 [==============================] - 0s 4ms/step - loss: 0.1799 - accuracy: 0.9540 - val_loss: 0.1846 - val_accuracy: 0.9528\n",
      "Epoch 37/100\n",
      "130/130 [==============================] - 1s 4ms/step - loss: 0.2121 - accuracy: 0.9466 - val_loss: 0.4371 - val_accuracy: 0.8951\n",
      "Epoch 38/100\n",
      "130/130 [==============================] - 0s 4ms/step - loss: 0.2216 - accuracy: 0.9506 - val_loss: 0.1863 - val_accuracy: 0.9548\n",
      "Epoch 39/100\n",
      "130/130 [==============================] - 0s 4ms/step - loss: 0.1761 - accuracy: 0.9569 - val_loss: 0.1630 - val_accuracy: 0.9577\n",
      "Epoch 40/100\n",
      "130/130 [==============================] - 1s 4ms/step - loss: 0.1727 - accuracy: 0.9608 - val_loss: 0.1767 - val_accuracy: 0.9548\n",
      "Epoch 41/100\n",
      "130/130 [==============================] - 0s 4ms/step - loss: 0.3215 - accuracy: 0.9340 - val_loss: 0.3375 - val_accuracy: 0.9317\n",
      "Epoch 42/100\n",
      "130/130 [==============================] - 1s 4ms/step - loss: 0.8117 - accuracy: 0.7920 - val_loss: 0.6308 - val_accuracy: 0.7430\n",
      "Epoch 43/100\n",
      "130/130 [==============================] - 0s 4ms/step - loss: 1.7074 - accuracy: 0.7874 - val_loss: 0.5570 - val_accuracy: 0.7950\n",
      "Epoch 44/100\n",
      "130/130 [==============================] - 1s 4ms/step - loss: 0.5623 - accuracy: 0.8370 - val_loss: 7.9611 - val_accuracy: 0.7642\n",
      "Epoch 45/100\n",
      "130/130 [==============================] - 1s 4ms/step - loss: 0.6272 - accuracy: 0.8031 - val_loss: 0.4439 - val_accuracy: 0.8268\n",
      "Epoch 46/100\n",
      "130/130 [==============================] - 1s 4ms/step - loss: 0.4273 - accuracy: 0.8214 - val_loss: 0.4362 - val_accuracy: 0.8219\n",
      "Epoch 47/100\n",
      "130/130 [==============================] - 1s 4ms/step - loss: 0.3960 - accuracy: 0.8435 - val_loss: 0.4225 - val_accuracy: 0.8239\n",
      "Epoch 48/100\n",
      "130/130 [==============================] - 1s 5ms/step - loss: 0.4106 - accuracy: 0.8329 - val_loss: 0.3970 - val_accuracy: 0.8364\n",
      "Epoch 49/100\n",
      "130/130 [==============================] - 1s 4ms/step - loss: 0.3934 - accuracy: 0.8416 - val_loss: 0.3821 - val_accuracy: 0.8383\n",
      "Epoch 50/100\n",
      "130/130 [==============================] - 1s 4ms/step - loss: 0.3870 - accuracy: 0.8426 - val_loss: 0.3889 - val_accuracy: 0.8373\n",
      "Epoch 51/100\n",
      "130/130 [==============================] - 0s 4ms/step - loss: 0.3903 - accuracy: 0.8467 - val_loss: 0.3792 - val_accuracy: 0.8412\n",
      "Epoch 52/100\n",
      "130/130 [==============================] - 1s 4ms/step - loss: 0.4341 - accuracy: 0.8221 - val_loss: 0.4169 - val_accuracy: 0.8335\n",
      "Epoch 53/100\n",
      "130/130 [==============================] - 0s 4ms/step - loss: 0.3931 - accuracy: 0.8445 - val_loss: 0.3871 - val_accuracy: 0.8393\n",
      "Epoch 54/100\n",
      "130/130 [==============================] - 1s 4ms/step - loss: 0.3711 - accuracy: 0.8486 - val_loss: 0.3810 - val_accuracy: 0.8402\n",
      "Epoch 55/100\n",
      "130/130 [==============================] - 1s 4ms/step - loss: 0.3685 - accuracy: 0.8541 - val_loss: 0.3827 - val_accuracy: 0.8402\n",
      "Epoch 56/100\n",
      "130/130 [==============================] - 1s 4ms/step - loss: 0.3639 - accuracy: 0.8541 - val_loss: 0.3939 - val_accuracy: 0.8422\n",
      "Epoch 57/100\n",
      "130/130 [==============================] - 1s 4ms/step - loss: 0.3729 - accuracy: 0.8539 - val_loss: 0.3785 - val_accuracy: 0.8422\n"
     ]
    },
    {
     "name": "stdout",
     "output_type": "stream",
     "text": [
      "Epoch 58/100\n",
      "130/130 [==============================] - 1s 4ms/step - loss: 0.3717 - accuracy: 0.8481 - val_loss: 0.3641 - val_accuracy: 0.8460\n",
      "Epoch 59/100\n",
      "130/130 [==============================] - 1s 4ms/step - loss: 0.3707 - accuracy: 0.8524 - val_loss: 0.3896 - val_accuracy: 0.8422\n",
      "Epoch 60/100\n",
      "130/130 [==============================] - 1s 4ms/step - loss: 0.3645 - accuracy: 0.8582 - val_loss: 0.3695 - val_accuracy: 0.8450\n",
      "Epoch 61/100\n",
      "130/130 [==============================] - 1s 4ms/step - loss: 0.3595 - accuracy: 0.8539 - val_loss: 0.3843 - val_accuracy: 0.8393\n",
      "Epoch 62/100\n",
      "130/130 [==============================] - 1s 4ms/step - loss: 0.3637 - accuracy: 0.8536 - val_loss: 0.3830 - val_accuracy: 0.8422\n",
      "Epoch 63/100\n",
      "130/130 [==============================] - 1s 5ms/step - loss: 0.3662 - accuracy: 0.8532 - val_loss: 0.3665 - val_accuracy: 0.8383\n",
      "Epoch 64/100\n",
      "130/130 [==============================] - 1s 4ms/step - loss: 0.3654 - accuracy: 0.8544 - val_loss: 0.3832 - val_accuracy: 0.8431\n",
      "Epoch 65/100\n",
      "130/130 [==============================] - 0s 4ms/step - loss: 0.3713 - accuracy: 0.8536 - val_loss: 0.3659 - val_accuracy: 0.8422\n",
      "Epoch 66/100\n",
      "130/130 [==============================] - 1s 4ms/step - loss: 0.3673 - accuracy: 0.8512 - val_loss: 0.3741 - val_accuracy: 0.8412\n",
      "Epoch 67/100\n",
      "130/130 [==============================] - 1s 4ms/step - loss: 0.3593 - accuracy: 0.8580 - val_loss: 0.3591 - val_accuracy: 0.8450\n",
      "Epoch 68/100\n",
      "130/130 [==============================] - 0s 4ms/step - loss: 0.3642 - accuracy: 0.8498 - val_loss: 0.3746 - val_accuracy: 0.8441\n",
      "Epoch 69/100\n",
      "130/130 [==============================] - 0s 4ms/step - loss: 0.3587 - accuracy: 0.8563 - val_loss: 0.3656 - val_accuracy: 0.8441\n",
      "Epoch 70/100\n",
      "130/130 [==============================] - 0s 3ms/step - loss: 0.3635 - accuracy: 0.8563 - val_loss: 0.3689 - val_accuracy: 0.8441\n",
      "Epoch 71/100\n",
      "130/130 [==============================] - 0s 3ms/step - loss: 0.3592 - accuracy: 0.8577 - val_loss: 0.3623 - val_accuracy: 0.8431\n",
      "Epoch 72/100\n",
      "130/130 [==============================] - 0s 3ms/step - loss: 0.3586 - accuracy: 0.8580 - val_loss: 0.3683 - val_accuracy: 0.8489\n",
      "Epoch 73/100\n",
      "130/130 [==============================] - 0s 4ms/step - loss: 0.3533 - accuracy: 0.8582 - val_loss: 0.4961 - val_accuracy: 0.8431\n",
      "Epoch 74/100\n",
      "130/130 [==============================] - 1s 4ms/step - loss: 0.4096 - accuracy: 0.8529 - val_loss: 0.3783 - val_accuracy: 0.8450\n",
      "Epoch 75/100\n",
      "130/130 [==============================] - 1s 4ms/step - loss: 0.3743 - accuracy: 0.8539 - val_loss: 0.3654 - val_accuracy: 0.8441\n",
      "Epoch 76/100\n",
      "130/130 [==============================] - 1s 4ms/step - loss: 0.3548 - accuracy: 0.8548 - val_loss: 0.3946 - val_accuracy: 0.8354\n",
      "Epoch 77/100\n",
      "130/130 [==============================] - 1s 4ms/step - loss: 0.3630 - accuracy: 0.8556 - val_loss: 0.4061 - val_accuracy: 0.8248\n",
      "Epoch 78/100\n",
      "130/130 [==============================] - 1s 5ms/step - loss: 0.3670 - accuracy: 0.8519 - val_loss: 0.3778 - val_accuracy: 0.8431\n",
      "Epoch 79/100\n",
      "130/130 [==============================] - 1s 4ms/step - loss: 0.3588 - accuracy: 0.8577 - val_loss: 0.3660 - val_accuracy: 0.8450\n",
      "Epoch 80/100\n",
      "130/130 [==============================] - 1s 4ms/step - loss: 0.3654 - accuracy: 0.8558 - val_loss: 0.3648 - val_accuracy: 0.8422\n",
      "Epoch 81/100\n",
      "130/130 [==============================] - 0s 4ms/step - loss: 0.3589 - accuracy: 0.8577 - val_loss: 0.3673 - val_accuracy: 0.8422\n",
      "Epoch 82/100\n",
      "130/130 [==============================] - 0s 4ms/step - loss: 0.3581 - accuracy: 0.8587 - val_loss: 0.3776 - val_accuracy: 0.8345\n",
      "Epoch 83/100\n",
      "130/130 [==============================] - 0s 4ms/step - loss: 0.3704 - accuracy: 0.8527 - val_loss: 0.3593 - val_accuracy: 0.8489\n",
      "Epoch 84/100\n",
      "130/130 [==============================] - 1s 4ms/step - loss: 0.3575 - accuracy: 0.8572 - val_loss: 0.3921 - val_accuracy: 0.8431\n",
      "Epoch 85/100\n",
      "130/130 [==============================] - 0s 4ms/step - loss: 0.3589 - accuracy: 0.8577 - val_loss: 0.3590 - val_accuracy: 0.8479\n",
      "Epoch 86/100\n",
      "130/130 [==============================] - 1s 4ms/step - loss: 0.3592 - accuracy: 0.8556 - val_loss: 0.3650 - val_accuracy: 0.8441\n",
      "Epoch 87/100\n",
      "130/130 [==============================] - 0s 4ms/step - loss: 0.3708 - accuracy: 0.8532 - val_loss: 0.4089 - val_accuracy: 0.8354\n",
      "Epoch 88/100\n",
      "130/130 [==============================] - 1s 4ms/step - loss: 0.6371 - accuracy: 0.7573 - val_loss: 0.6078 - val_accuracy: 0.7180\n",
      "Epoch 89/100\n",
      "130/130 [==============================] - 0s 4ms/step - loss: 0.5606 - accuracy: 0.7610 - val_loss: 0.5423 - val_accuracy: 0.7680\n",
      "Epoch 90/100\n",
      "130/130 [==============================] - 1s 4ms/step - loss: 0.5148 - accuracy: 0.7942 - val_loss: 0.4386 - val_accuracy: 0.8162\n",
      "Epoch 91/100\n",
      "130/130 [==============================] - 0s 4ms/step - loss: 0.4217 - accuracy: 0.8322 - val_loss: 0.4306 - val_accuracy: 0.8219\n",
      "Epoch 92/100\n",
      "130/130 [==============================] - 0s 4ms/step - loss: 0.4142 - accuracy: 0.8332 - val_loss: 0.4181 - val_accuracy: 0.8296\n",
      "Epoch 93/100\n",
      "130/130 [==============================] - 0s 4ms/step - loss: 0.4128 - accuracy: 0.8392 - val_loss: 0.4135 - val_accuracy: 0.8296\n",
      "Epoch 94/100\n",
      "130/130 [==============================] - 0s 4ms/step - loss: 0.4081 - accuracy: 0.8421 - val_loss: 0.4125 - val_accuracy: 0.8287\n",
      "Epoch 95/100\n",
      "130/130 [==============================] - 0s 4ms/step - loss: 0.4064 - accuracy: 0.8414 - val_loss: 0.4227 - val_accuracy: 0.8277\n",
      "Epoch 96/100\n",
      "130/130 [==============================] - 0s 4ms/step - loss: 0.4153 - accuracy: 0.8399 - val_loss: 0.4769 - val_accuracy: 0.8104\n",
      "Epoch 97/100\n",
      "130/130 [==============================] - 1s 4ms/step - loss: 0.4117 - accuracy: 0.8421 - val_loss: 0.4201 - val_accuracy: 0.8268\n",
      "Epoch 98/100\n",
      "130/130 [==============================] - 0s 4ms/step - loss: 0.4054 - accuracy: 0.8438 - val_loss: 0.4213 - val_accuracy: 0.8306\n",
      "Epoch 99/100\n",
      "130/130 [==============================] - 1s 4ms/step - loss: 0.4046 - accuracy: 0.8447 - val_loss: 0.4032 - val_accuracy: 0.8345\n",
      "Epoch 100/100\n",
      "130/130 [==============================] - 0s 4ms/step - loss: 0.4119 - accuracy: 0.8421 - val_loss: 0.4121 - val_accuracy: 0.8316\n",
      "33/33 [==============================] - 0s 2ms/step\n"
     ]
    }
   ],
   "source": [
    "model_history=model.fit(x=X_train, y=y_train, epochs=100, batch_size=32,validation_data= (X_test,y_test))\n",
    "y_pred = model.predict(X_test)\n",
    "\n",
    "y_test_class = np.argmax(y_test,axis=1)\n",
    "y_pred_class = np.argmax(y_pred,axis=1)"
   ]
  },
  {
   "cell_type": "code",
   "execution_count": 20,
   "id": "7936239a",
   "metadata": {},
   "outputs": [
    {
     "data": {
      "image/png": "[encoded data removed]",
      "text/plain": [
       "<Figure size 640x480 with 1 Axes>"
      ]
     },
     "metadata": {},
     "output_type": "display_data"
    }
   ],
   "source": [
    "loss =model_history.history['loss']\n",
    "val_loss =model_history.history['val_loss']\n",
    "epochs = range(1, len(loss) + 1)\n",
    "plt.plot(epochs, loss, 'y', label='Training loss')\n",
    "plt.plot(epochs, val_loss, 'r', label='Validation loss')\n",
    "plt.title('Training and validation loss')\n",
    "plt.xlabel('Epochs')\n",
    "plt.ylabel('Loss')\n",
    "plt.legend()\n",
    "plt.show()"
   ]
  },
  {
   "cell_type": "code",
   "execution_count": 21,
   "id": "c3cc0867",
   "metadata": {},
   "outputs": [
    {
     "data": {
      "image/png": "[encoded data removed]",
      "text/plain": [
       "<Figure size 640x480 with 1 Axes>"
      ]
     },
     "metadata": {},
     "output_type": "display_data"
    }
   ],
   "source": [
    "acc =model_history.history['accuracy']\n",
    "val_acc =model_history.history['val_accuracy']\n",
    "plt.plot(epochs, acc, 'y', label='Training acc')\n",
    "plt.plot(epochs, val_acc, 'r', label='Validation acc')\n",
    "plt.title('Training and validation accuracy')\n",
    "plt.xlabel('Epochs')\n",
    "plt.ylabel('Accuracy')\n",
    "plt.legend()\n",
    "plt.show()"
   ]
  },
  {
   "cell_type": "code",
   "execution_count": 22,
   "id": "d25c556a",
   "metadata": {},
   "outputs": [
    {
     "name": "stdout",
     "output_type": "stream",
     "text": [
      "              precision    recall  f1-score   support\n",
      "\n",
      "           0       0.94      0.97      0.95       615\n",
      "           1       0.00      0.00      0.00        17\n",
      "           2       0.00      0.00      0.00         1\n",
      "           3       0.00      0.00      0.00         3\n",
      "           4       0.95      0.86      0.90       141\n",
      "           5       0.54      1.00      0.70       149\n",
      "           6       0.00      0.00      0.00       113\n",
      "\n",
      "    accuracy                           0.83      1039\n",
      "   macro avg       0.35      0.40      0.36      1039\n",
      "weighted avg       0.76      0.83      0.79      1039\n",
      "\n",
      "[[594   0   0   0   6  15   0]\n",
      " [ 16   0   0   0   1   0   0]\n",
      " [  1   0   0   0   0   0   0]\n",
      " [  3   0   0   0   0   0   0]\n",
      " [ 20   0   0   0 121   0   0]\n",
      " [  0   0   0   0   0 149   0]\n",
      " [  0   0   0   0   0 113   0]]\n"
     ]
    },
    {
     "name": "stderr",
     "output_type": "stream",
     "text": [
      "C:\\Users\\82109\\anaconda3\\lib\\site-packages\\sklearn\\metrics\\_classification.py:1248: UndefinedMetricWarning: Precision and F-score are ill-defined and being set to 0.0 in labels with no predicted samples. Use `zero_division` parameter to control this behavior.\n",
      "  _warn_prf(average, modifier, msg_start, len(result))\n",
      "C:\\Users\\82109\\anaconda3\\lib\\site-packages\\sklearn\\metrics\\_classification.py:1248: UndefinedMetricWarning: Precision and F-score are ill-defined and being set to 0.0 in labels with no predicted samples. Use `zero_division` parameter to control this behavior.\n",
      "  _warn_prf(average, modifier, msg_start, len(result))\n",
      "C:\\Users\\82109\\anaconda3\\lib\\site-packages\\sklearn\\metrics\\_classification.py:1248: UndefinedMetricWarning: Precision and F-score are ill-defined and being set to 0.0 in labels with no predicted samples. Use `zero_division` parameter to control this behavior.\n",
      "  _warn_prf(average, modifier, msg_start, len(result))\n"
     ]
    }
   ],
   "source": [
    "print(classification_report(y_test_class,y_pred_class))\n",
    "print(confusion_matrix(y_test_class,y_pred_class))"
   ]
  },
  {
   "cell_type": "code",
   "execution_count": null,
   "id": "32b034f2",
   "metadata": {},
   "outputs": [],
   "source": []
  }
 ],
 "metadata": {
  "kernelspec": {
   "display_name": "Python 3 (ipykernel)",
   "language": "python",
   "name": "python3"
  },
  "language_info": {
   "codemirror_mode": {
    "name": "ipython",
    "version": 3
   },
   "file_extension": ".py",
   "mimetype": "text/x-python",
   "name": "python",
   "nbconvert_exporter": "python",
   "pygments_lexer": "ipython3",
   "version": "3.9.7"
  }
 },
 "nbformat": 4,
 "nbformat_minor": 5
}
