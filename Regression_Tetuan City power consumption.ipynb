{
 "cells": [
  {
   "cell_type": "code",
   "execution_count": 1,
   "id": "e2a47277",
   "metadata": {
    "scrolled": true
   },
   "outputs": [],
   "source": [
    "# warning 무시하기\n",
    "import warnings\n",
    "warnings.filterwarnings(action='ignore')\n",
    "import matplotlib.pyplot as plt\n",
    "import pandas as pd\n",
    "import numpy as np\n",
    "from sklearn.model_selection import train_test_split"
   ]
  },
  {
   "cell_type": "code",
   "execution_count": 2,
   "id": "dab6b001",
   "metadata": {},
   "outputs": [],
   "source": [
    "dataset = pd.read_csv(\"Tetuan City power consumption.csv\")"
   ]
  },
  {
   "cell_type": "code",
   "execution_count": 3,
   "id": "86cf2484",
   "metadata": {
    "scrolled": true
   },
   "outputs": [
    {
     "data": {
      "text/html": [
       "<div>\n",
       "<style scoped>\n",
       "    .dataframe tbody tr th:only-of-type {\n",
       "        vertical-align: middle;\n",
       "    }\n",
       "\n",
       "    .dataframe tbody tr th {\n",
       "        vertical-align: top;\n",
       "    }\n",
       "\n",
       "    .dataframe thead th {\n",
       "        text-align: right;\n",
       "    }\n",
       "</style>\n",
       "<table border=\"1\" class=\"dataframe\">\n",
       "  <thead>\n",
       "    <tr style=\"text-align: right;\">\n",
       "      <th></th>\n",
       "      <th>Temperature</th>\n",
       "      <th>Humidity</th>\n",
       "      <th>Wind Speed</th>\n",
       "      <th>general diffuse flows</th>\n",
       "      <th>diffuse flows</th>\n",
       "      <th>Zone 1 Power Consumption</th>\n",
       "    </tr>\n",
       "  </thead>\n",
       "  <tbody>\n",
       "    <tr>\n",
       "      <th>0</th>\n",
       "      <td>6.559</td>\n",
       "      <td>73.8</td>\n",
       "      <td>0.083</td>\n",
       "      <td>0.051</td>\n",
       "      <td>0.119</td>\n",
       "      <td>34055.69620</td>\n",
       "    </tr>\n",
       "    <tr>\n",
       "      <th>1</th>\n",
       "      <td>6.414</td>\n",
       "      <td>74.5</td>\n",
       "      <td>0.083</td>\n",
       "      <td>0.070</td>\n",
       "      <td>0.085</td>\n",
       "      <td>29814.68354</td>\n",
       "    </tr>\n",
       "    <tr>\n",
       "      <th>2</th>\n",
       "      <td>6.313</td>\n",
       "      <td>74.5</td>\n",
       "      <td>0.080</td>\n",
       "      <td>0.062</td>\n",
       "      <td>0.100</td>\n",
       "      <td>29128.10127</td>\n",
       "    </tr>\n",
       "    <tr>\n",
       "      <th>3</th>\n",
       "      <td>6.121</td>\n",
       "      <td>75.0</td>\n",
       "      <td>0.083</td>\n",
       "      <td>0.091</td>\n",
       "      <td>0.096</td>\n",
       "      <td>28228.86076</td>\n",
       "    </tr>\n",
       "    <tr>\n",
       "      <th>4</th>\n",
       "      <td>5.921</td>\n",
       "      <td>75.7</td>\n",
       "      <td>0.081</td>\n",
       "      <td>0.048</td>\n",
       "      <td>0.085</td>\n",
       "      <td>27335.69620</td>\n",
       "    </tr>\n",
       "    <tr>\n",
       "      <th>...</th>\n",
       "      <td>...</td>\n",
       "      <td>...</td>\n",
       "      <td>...</td>\n",
       "      <td>...</td>\n",
       "      <td>...</td>\n",
       "      <td>...</td>\n",
       "    </tr>\n",
       "    <tr>\n",
       "      <th>52411</th>\n",
       "      <td>7.010</td>\n",
       "      <td>72.4</td>\n",
       "      <td>0.080</td>\n",
       "      <td>0.040</td>\n",
       "      <td>0.096</td>\n",
       "      <td>31160.45627</td>\n",
       "    </tr>\n",
       "    <tr>\n",
       "      <th>52412</th>\n",
       "      <td>6.947</td>\n",
       "      <td>72.6</td>\n",
       "      <td>0.082</td>\n",
       "      <td>0.051</td>\n",
       "      <td>0.093</td>\n",
       "      <td>30430.41825</td>\n",
       "    </tr>\n",
       "    <tr>\n",
       "      <th>52413</th>\n",
       "      <td>6.900</td>\n",
       "      <td>72.8</td>\n",
       "      <td>0.086</td>\n",
       "      <td>0.084</td>\n",
       "      <td>0.074</td>\n",
       "      <td>29590.87452</td>\n",
       "    </tr>\n",
       "    <tr>\n",
       "      <th>52414</th>\n",
       "      <td>6.758</td>\n",
       "      <td>73.0</td>\n",
       "      <td>0.080</td>\n",
       "      <td>0.066</td>\n",
       "      <td>0.089</td>\n",
       "      <td>28958.17490</td>\n",
       "    </tr>\n",
       "    <tr>\n",
       "      <th>52415</th>\n",
       "      <td>6.580</td>\n",
       "      <td>74.1</td>\n",
       "      <td>0.081</td>\n",
       "      <td>0.062</td>\n",
       "      <td>0.111</td>\n",
       "      <td>28349.80989</td>\n",
       "    </tr>\n",
       "  </tbody>\n",
       "</table>\n",
       "<p>52416 rows × 6 columns</p>\n",
       "</div>"
      ],
      "text/plain": [
       "       Temperature  Humidity  Wind Speed  general diffuse flows  \\\n",
       "0            6.559      73.8       0.083                  0.051   \n",
       "1            6.414      74.5       0.083                  0.070   \n",
       "2            6.313      74.5       0.080                  0.062   \n",
       "3            6.121      75.0       0.083                  0.091   \n",
       "4            5.921      75.7       0.081                  0.048   \n",
       "...            ...       ...         ...                    ...   \n",
       "52411        7.010      72.4       0.080                  0.040   \n",
       "52412        6.947      72.6       0.082                  0.051   \n",
       "52413        6.900      72.8       0.086                  0.084   \n",
       "52414        6.758      73.0       0.080                  0.066   \n",
       "52415        6.580      74.1       0.081                  0.062   \n",
       "\n",
       "       diffuse flows  Zone 1 Power Consumption  \n",
       "0              0.119               34055.69620  \n",
       "1              0.085               29814.68354  \n",
       "2              0.100               29128.10127  \n",
       "3              0.096               28228.86076  \n",
       "4              0.085               27335.69620  \n",
       "...              ...                       ...  \n",
       "52411          0.096               31160.45627  \n",
       "52412          0.093               30430.41825  \n",
       "52413          0.074               29590.87452  \n",
       "52414          0.089               28958.17490  \n",
       "52415          0.111               28349.80989  \n",
       "\n",
       "[52416 rows x 6 columns]"
      ]
     },
     "execution_count": 3,
     "metadata": {},
     "output_type": "execute_result"
    }
   ],
   "source": [
    "dataset"
   ]
  },
  {
   "cell_type": "code",
   "execution_count": 4,
   "id": "533a9d52",
   "metadata": {},
   "outputs": [
    {
     "data": {
      "text/plain": [
       "Temperature                 0\n",
       "Humidity                    0\n",
       "Wind Speed                  0\n",
       "general diffuse flows       0\n",
       "diffuse flows               0\n",
       "Zone 1 Power Consumption    0\n",
       "dtype: int64"
      ]
     },
     "execution_count": 4,
     "metadata": {},
     "output_type": "execute_result"
    }
   ],
   "source": [
    "dataset.isnull().sum()"
   ]
  },
  {
   "cell_type": "code",
   "execution_count": 5,
   "id": "062f0a9b",
   "metadata": {},
   "outputs": [
    {
     "data": {
      "image/png": "[encoded data removed]",
      "text/plain": [
       "<Figure size 640x480 with 1 Axes>"
      ]
     },
     "metadata": {},
     "output_type": "display_data"
    }
   ],
   "source": [
    "dataset.describe()\n",
    "plt.hist(dataset['Zone 1 Power Consumption'])\n",
    "plt.title('Zone 1 Power Consumption')\n",
    "plt.show()"
   ]
  },
  {
   "cell_type": "code",
   "execution_count": 6,
   "id": "7ddfecca",
   "metadata": {},
   "outputs": [],
   "source": [
    "X=dataset[['Temperature','Humidity','Wind Speed']]\n",
    "Y=dataset[['Zone 1 Power Consumption']]"
   ]
  },
  {
   "cell_type": "code",
   "execution_count": 7,
   "id": "277b3cc0",
   "metadata": {},
   "outputs": [],
   "source": [
    "X_train, X_test, y_train, y_test = train_test_split(X, Y,test_size=0.25,random_state=42)"
   ]
  },
  {
   "cell_type": "code",
   "execution_count": 8,
   "id": "0e0c372d",
   "metadata": {},
   "outputs": [],
   "source": [
    "X_train = X_train.to_numpy()\n",
    "y_train = y_train.to_numpy()\n",
    "X_test = X_test.to_numpy()\n",
    "y_test = y_test.to_numpy()"
   ]
  },
  {
   "cell_type": "code",
   "execution_count": 11,
   "id": "9391b94c",
   "metadata": {},
   "outputs": [
    {
     "name": "stdout",
     "output_type": "stream",
     "text": [
      "Model: \"sequential_1\"\n",
      "_________________________________________________________________\n",
      " Layer (type)                Output Shape              Param #   \n",
      "=================================================================\n",
      " dense_4 (Dense)             (None, 32)                128       \n",
      "                                                                 \n",
      " dense_5 (Dense)             (None, 16)                528       \n",
      "                                                                 \n",
      " dense_6 (Dense)             (None, 8)                 136       \n",
      "                                                                 \n",
      " dense_7 (Dense)             (None, 1)                 9         \n",
      "                                                                 \n",
      "=================================================================\n",
      "Total params: 801\n",
      "Trainable params: 801\n",
      "Non-trainable params: 0\n",
      "_________________________________________________________________\n"
     ]
    }
   ],
   "source": [
    "from tensorflow.keras.models import Sequential\n",
    "from tensorflow.keras.layers import Dense\n",
    "\n",
    "model = Sequential()\n",
    "model.add(Dense(32, activation = 'relu', input_shape = (3,)))\n",
    "model.add(Dense(16, activation = 'relu'))\n",
    "model.add(Dense(8, activation = 'relu'))\n",
    "model.add(Dense(1))\n",
    "model.compile(optimizer = 'rmsprop', loss = 'mse', metrics = ['mse'])\n",
    "\n",
    "model.summary()"
   ]
  },
  {
   "cell_type": "code",
   "execution_count": 12,
   "id": "6acdc726",
   "metadata": {},
   "outputs": [
    {
     "name": "stdout",
     "output_type": "stream",
     "text": [
      "Epoch 1/70\n",
      "1229/1229 [==============================] - 3s 2ms/step - loss: 531921440.0000 - mse: 531921440.0000 - val_loss: 72246864.0000 - val_mse: 72246864.0000\n",
      "Epoch 2/70\n",
      "1229/1229 [==============================] - 2s 1ms/step - loss: 60692636.0000 - mse: 60692636.0000 - val_loss: 55179060.0000 - val_mse: 55179060.0000\n",
      "Epoch 3/70\n",
      "1229/1229 [==============================] - 2s 2ms/step - loss: 52899968.0000 - mse: 52899968.0000 - val_loss: 52583848.0000 - val_mse: 52583848.0000\n",
      "Epoch 4/70\n",
      "1229/1229 [==============================] - 2s 2ms/step - loss: 51367048.0000 - mse: 51367048.0000 - val_loss: 51822028.0000 - val_mse: 51822028.0000\n",
      "Epoch 5/70\n",
      "1229/1229 [==============================] - 2s 2ms/step - loss: 50856544.0000 - mse: 50856544.0000 - val_loss: 51362200.0000 - val_mse: 51362200.0000\n",
      "Epoch 6/70\n",
      "1229/1229 [==============================] - 2s 2ms/step - loss: 50576232.0000 - mse: 50576232.0000 - val_loss: 50989444.0000 - val_mse: 50989444.0000\n",
      "Epoch 7/70\n",
      "1229/1229 [==============================] - 2s 1ms/step - loss: 50341524.0000 - mse: 50341524.0000 - val_loss: 51602200.0000 - val_mse: 51602200.0000\n",
      "Epoch 8/70\n",
      "1229/1229 [==============================] - 2s 2ms/step - loss: 50094592.0000 - mse: 50094592.0000 - val_loss: 50544700.0000 - val_mse: 50544700.0000\n",
      "Epoch 9/70\n",
      "1229/1229 [==============================] - 2s 1ms/step - loss: 49889672.0000 - mse: 49889672.0000 - val_loss: 50336708.0000 - val_mse: 50336708.0000\n",
      "Epoch 10/70\n",
      "1229/1229 [==============================] - 2s 2ms/step - loss: 49660076.0000 - mse: 49660076.0000 - val_loss: 50072760.0000 - val_mse: 50072760.0000\n",
      "Epoch 11/70\n",
      "1229/1229 [==============================] - 2s 1ms/step - loss: 49380516.0000 - mse: 49380516.0000 - val_loss: 49860924.0000 - val_mse: 49860924.0000\n",
      "Epoch 12/70\n",
      "1229/1229 [==============================] - 2s 1ms/step - loss: 49112652.0000 - mse: 49112652.0000 - val_loss: 49578268.0000 - val_mse: 49578268.0000\n",
      "Epoch 13/70\n",
      "1229/1229 [==============================] - 2s 1ms/step - loss: 48828000.0000 - mse: 48828000.0000 - val_loss: 49210304.0000 - val_mse: 49210304.0000\n",
      "Epoch 14/70\n",
      "1229/1229 [==============================] - 2s 2ms/step - loss: 48545256.0000 - mse: 48545256.0000 - val_loss: 48893668.0000 - val_mse: 48893668.0000\n",
      "Epoch 15/70\n",
      "1229/1229 [==============================] - 2s 2ms/step - loss: 48238124.0000 - mse: 48238124.0000 - val_loss: 48738180.0000 - val_mse: 48738180.0000\n",
      "Epoch 16/70\n",
      "1229/1229 [==============================] - 2s 1ms/step - loss: 47896980.0000 - mse: 47896980.0000 - val_loss: 48205164.0000 - val_mse: 48205164.0000\n",
      "Epoch 17/70\n",
      "1229/1229 [==============================] - 2s 2ms/step - loss: 47515568.0000 - mse: 47515568.0000 - val_loss: 47817016.0000 - val_mse: 47817016.0000\n",
      "Epoch 18/70\n",
      "1229/1229 [==============================] - 2s 1ms/step - loss: 47160376.0000 - mse: 47160376.0000 - val_loss: 47852532.0000 - val_mse: 47852532.0000\n",
      "Epoch 19/70\n",
      "1229/1229 [==============================] - 2s 2ms/step - loss: 46809116.0000 - mse: 46809116.0000 - val_loss: 47041028.0000 - val_mse: 47041028.0000\n",
      "Epoch 20/70\n",
      "1229/1229 [==============================] - 3s 2ms/step - loss: 46376924.0000 - mse: 46376924.0000 - val_loss: 46830728.0000 - val_mse: 46830728.0000\n",
      "Epoch 21/70\n",
      "1229/1229 [==============================] - 2s 2ms/step - loss: 45922996.0000 - mse: 45922996.0000 - val_loss: 46108536.0000 - val_mse: 46108536.0000\n",
      "Epoch 22/70\n",
      "1229/1229 [==============================] - 2s 2ms/step - loss: 45483428.0000 - mse: 45483428.0000 - val_loss: 45710384.0000 - val_mse: 45710384.0000\n",
      "Epoch 23/70\n",
      "1229/1229 [==============================] - 2s 2ms/step - loss: 45003556.0000 - mse: 45003556.0000 - val_loss: 45047844.0000 - val_mse: 45047844.0000\n",
      "Epoch 24/70\n",
      "1229/1229 [==============================] - 2s 2ms/step - loss: 44507952.0000 - mse: 44507952.0000 - val_loss: 44557580.0000 - val_mse: 44557580.0000\n",
      "Epoch 25/70\n",
      "1229/1229 [==============================] - 2s 2ms/step - loss: 43979316.0000 - mse: 43979316.0000 - val_loss: 44515908.0000 - val_mse: 44515908.0000\n",
      "Epoch 26/70\n",
      "1229/1229 [==============================] - 3s 2ms/step - loss: 43492624.0000 - mse: 43492624.0000 - val_loss: 43615732.0000 - val_mse: 43615732.0000\n",
      "Epoch 27/70\n",
      "1229/1229 [==============================] - 2s 2ms/step - loss: 43020632.0000 - mse: 43020632.0000 - val_loss: 43066900.0000 - val_mse: 43066900.0000\n",
      "Epoch 28/70\n",
      "1229/1229 [==============================] - 2s 2ms/step - loss: 42542476.0000 - mse: 42542476.0000 - val_loss: 42547388.0000 - val_mse: 42547388.0000\n",
      "Epoch 29/70\n",
      "1229/1229 [==============================] - 2s 2ms/step - loss: 42127864.0000 - mse: 42127864.0000 - val_loss: 42776500.0000 - val_mse: 42776500.0000\n",
      "Epoch 30/70\n",
      "1229/1229 [==============================] - 2s 2ms/step - loss: 41771460.0000 - mse: 41771460.0000 - val_loss: 41713984.0000 - val_mse: 41713984.0000\n",
      "Epoch 31/70\n",
      "1229/1229 [==============================] - 2s 2ms/step - loss: 41439548.0000 - mse: 41439548.0000 - val_loss: 41708844.0000 - val_mse: 41708844.0000\n",
      "Epoch 32/70\n",
      "1229/1229 [==============================] - 2s 2ms/step - loss: 41171316.0000 - mse: 41171316.0000 - val_loss: 41132212.0000 - val_mse: 41132212.0000\n",
      "Epoch 33/70\n",
      "1229/1229 [==============================] - 2s 2ms/step - loss: 40917808.0000 - mse: 40917808.0000 - val_loss: 40917788.0000 - val_mse: 40917788.0000\n",
      "Epoch 34/70\n",
      "1229/1229 [==============================] - 2s 2ms/step - loss: 40755640.0000 - mse: 40755640.0000 - val_loss: 40785576.0000 - val_mse: 40785576.0000\n",
      "Epoch 35/70\n",
      "1229/1229 [==============================] - 2s 2ms/step - loss: 40612776.0000 - mse: 40612776.0000 - val_loss: 41200432.0000 - val_mse: 41200432.0000\n",
      "Epoch 36/70\n",
      "1229/1229 [==============================] - 2s 2ms/step - loss: 40472916.0000 - mse: 40472916.0000 - val_loss: 41097196.0000 - val_mse: 41097196.0000\n",
      "Epoch 37/70\n",
      "1229/1229 [==============================] - 2s 2ms/step - loss: 40410968.0000 - mse: 40410968.0000 - val_loss: 40449744.0000 - val_mse: 40449744.0000\n",
      "Epoch 38/70\n",
      "1229/1229 [==============================] - 3s 2ms/step - loss: 40295380.0000 - mse: 40295380.0000 - val_loss: 40468732.0000 - val_mse: 40468732.0000\n",
      "Epoch 39/70\n",
      "1229/1229 [==============================] - 3s 2ms/step - loss: 40174808.0000 - mse: 40174808.0000 - val_loss: 40479836.0000 - val_mse: 40479836.0000\n",
      "Epoch 40/70\n",
      "1229/1229 [==============================] - 3s 2ms/step - loss: 40061720.0000 - mse: 40061720.0000 - val_loss: 40103108.0000 - val_mse: 40103108.0000\n",
      "Epoch 41/70\n",
      "1229/1229 [==============================] - 3s 2ms/step - loss: 39929600.0000 - mse: 39929600.0000 - val_loss: 39862148.0000 - val_mse: 39862148.0000\n",
      "Epoch 42/70\n",
      "1229/1229 [==============================] - 3s 2ms/step - loss: 39829724.0000 - mse: 39829724.0000 - val_loss: 39884328.0000 - val_mse: 39884328.0000\n",
      "Epoch 43/70\n",
      "1229/1229 [==============================] - 2s 2ms/step - loss: 39707068.0000 - mse: 39707068.0000 - val_loss: 39860184.0000 - val_mse: 39860184.0000\n",
      "Epoch 44/70\n",
      "1229/1229 [==============================] - 3s 2ms/step - loss: 39630768.0000 - mse: 39630768.0000 - val_loss: 39650596.0000 - val_mse: 39650596.0000\n",
      "Epoch 45/70\n",
      "1229/1229 [==============================] - 2s 2ms/step - loss: 39536716.0000 - mse: 39536716.0000 - val_loss: 39515812.0000 - val_mse: 39515812.0000\n",
      "Epoch 46/70\n",
      "1229/1229 [==============================] - 2s 2ms/step - loss: 39498824.0000 - mse: 39498824.0000 - val_loss: 39708796.0000 - val_mse: 39708796.0000\n",
      "Epoch 47/70\n",
      "1229/1229 [==============================] - 2s 2ms/step - loss: 39486804.0000 - mse: 39486804.0000 - val_loss: 39595520.0000 - val_mse: 39595520.0000\n",
      "Epoch 48/70\n",
      "1229/1229 [==============================] - 2s 2ms/step - loss: 39445756.0000 - mse: 39445756.0000 - val_loss: 41113696.0000 - val_mse: 41113696.0000\n",
      "Epoch 49/70\n",
      "1229/1229 [==============================] - 2s 2ms/step - loss: 39395356.0000 - mse: 39395356.0000 - val_loss: 39567368.0000 - val_mse: 39567368.0000\n",
      "Epoch 50/70\n",
      "1229/1229 [==============================] - 2s 2ms/step - loss: 39381496.0000 - mse: 39381496.0000 - val_loss: 39436508.0000 - val_mse: 39436508.0000\n",
      "Epoch 51/70\n"
     ]
    },
    {
     "name": "stdout",
     "output_type": "stream",
     "text": [
      "1229/1229 [==============================] - 2s 2ms/step - loss: 39364952.0000 - mse: 39364952.0000 - val_loss: 40374220.0000 - val_mse: 40374220.0000\n",
      "Epoch 52/70\n",
      "1229/1229 [==============================] - 2s 2ms/step - loss: 39338856.0000 - mse: 39338856.0000 - val_loss: 39814412.0000 - val_mse: 39814412.0000\n",
      "Epoch 53/70\n",
      "1229/1229 [==============================] - 2s 2ms/step - loss: 39310260.0000 - mse: 39310260.0000 - val_loss: 39384772.0000 - val_mse: 39384772.0000\n",
      "Epoch 54/70\n",
      "1229/1229 [==============================] - 2s 2ms/step - loss: 39294128.0000 - mse: 39294128.0000 - val_loss: 39610860.0000 - val_mse: 39610860.0000\n",
      "Epoch 55/70\n",
      "1229/1229 [==============================] - 2s 2ms/step - loss: 39303764.0000 - mse: 39303764.0000 - val_loss: 39523068.0000 - val_mse: 39523068.0000\n",
      "Epoch 56/70\n",
      "1229/1229 [==============================] - 2s 2ms/step - loss: 39308120.0000 - mse: 39308120.0000 - val_loss: 39864280.0000 - val_mse: 39864280.0000\n",
      "Epoch 57/70\n",
      "1229/1229 [==============================] - 3s 2ms/step - loss: 39299028.0000 - mse: 39299028.0000 - val_loss: 39391184.0000 - val_mse: 39391184.0000\n",
      "Epoch 58/70\n",
      "1229/1229 [==============================] - 2s 2ms/step - loss: 39260792.0000 - mse: 39260792.0000 - val_loss: 39552328.0000 - val_mse: 39552328.0000\n",
      "Epoch 59/70\n",
      "1229/1229 [==============================] - 3s 2ms/step - loss: 39256108.0000 - mse: 39256108.0000 - val_loss: 40142536.0000 - val_mse: 40142536.0000\n",
      "Epoch 60/70\n",
      "1229/1229 [==============================] - 2s 2ms/step - loss: 39271724.0000 - mse: 39271724.0000 - val_loss: 39297148.0000 - val_mse: 39297148.0000\n",
      "Epoch 61/70\n",
      "1229/1229 [==============================] - 2s 2ms/step - loss: 39288052.0000 - mse: 39288052.0000 - val_loss: 39316288.0000 - val_mse: 39316288.0000\n",
      "Epoch 62/70\n",
      "1229/1229 [==============================] - 3s 2ms/step - loss: 39280576.0000 - mse: 39280576.0000 - val_loss: 39313168.0000 - val_mse: 39313168.0000\n",
      "Epoch 63/70\n",
      "1229/1229 [==============================] - 2s 2ms/step - loss: 39262576.0000 - mse: 39262576.0000 - val_loss: 39336088.0000 - val_mse: 39336088.0000\n",
      "Epoch 64/70\n",
      "1229/1229 [==============================] - 2s 2ms/step - loss: 39260480.0000 - mse: 39260480.0000 - val_loss: 39484188.0000 - val_mse: 39484188.0000\n",
      "Epoch 65/70\n",
      "1229/1229 [==============================] - 2s 2ms/step - loss: 39208656.0000 - mse: 39208656.0000 - val_loss: 39267020.0000 - val_mse: 39267020.0000\n",
      "Epoch 66/70\n",
      "1229/1229 [==============================] - 2s 2ms/step - loss: 39227896.0000 - mse: 39227896.0000 - val_loss: 39469180.0000 - val_mse: 39469180.0000\n",
      "Epoch 67/70\n",
      "1229/1229 [==============================] - 2s 2ms/step - loss: 39205368.0000 - mse: 39205368.0000 - val_loss: 39344152.0000 - val_mse: 39344152.0000\n",
      "Epoch 68/70\n",
      "1229/1229 [==============================] - 2s 2ms/step - loss: 39196968.0000 - mse: 39196968.0000 - val_loss: 39502648.0000 - val_mse: 39502648.0000\n",
      "Epoch 69/70\n",
      "1229/1229 [==============================] - 2s 2ms/step - loss: 39176604.0000 - mse: 39176604.0000 - val_loss: 39737012.0000 - val_mse: 39737012.0000\n",
      "Epoch 70/70\n",
      "1229/1229 [==============================] - 2s 2ms/step - loss: 39235504.0000 - mse: 39235504.0000 - val_loss: 39456040.0000 - val_mse: 39456040.0000\n"
     ]
    }
   ],
   "source": [
    "N_EPOCHS = 70\n",
    "history = model.fit(X_train, y_train, epochs = N_EPOCHS, validation_data=(X_test, y_test))"
   ]
  },
  {
   "cell_type": "code",
   "execution_count": 13,
   "id": "c71c04e4",
   "metadata": {},
   "outputs": [
    {
     "name": "stdout",
     "output_type": "stream",
     "text": [
      "410/410 [==============================] - 0s 951us/step - loss: 39456040.0000 - mse: 39456040.0000\n"
     ]
    }
   ],
   "source": [
    "test_mse_score, test_mae_score=model.evaluate(X_test, y_test)"
   ]
  },
  {
   "cell_type": "code",
   "execution_count": 14,
   "id": "0cb7b027",
   "metadata": {},
   "outputs": [
    {
     "data": {
      "image/png": "[encoded data removed]",
      "text/plain": [
       "<Figure size 1000x700 with 1 Axes>"
      ]
     },
     "metadata": {},
     "output_type": "display_data"
    }
   ],
   "source": [
    "plt.figure(figsize=(10,7))\n",
    "plt.plot(range(N_EPOCHS), history.history['loss'], label='train loss')\n",
    "plt.plot(range(N_EPOCHS), history.history['val_loss'], label='test loss')\n",
    "plt.xlabel('Epoch')\n",
    "plt.ylabel('Loss')\n",
    "plt.legend()\n",
    "plt.show()"
   ]
  },
  {
   "cell_type": "code",
   "execution_count": 17,
   "id": "1bf7bc12",
   "metadata": {},
   "outputs": [
    {
     "data": {
      "image/png": "[encoded data removed]",
      "text/plain": [
       "<Figure size 1000x700 with 1 Axes>"
      ]
     },
     "metadata": {},
     "output_type": "display_data"
    }
   ],
   "source": [
    "plt.figure(figsize=(10,7))\n",
    "plt.plot(range(N_EPOCHS), history.history['mse'], label='mae')\n",
    "plt.plot(range(N_EPOCHS), history.history['val_mse'], label='test mae')\n",
    "plt.xlabel('Epoch')\n",
    "plt.ylabel('Loss')\n",
    "plt.legend()\n",
    "plt.show()"
   ]
  }
 ],
 "metadata": {
  "kernelspec": {
   "display_name": "Python 3 (ipykernel)",
   "language": "python",
   "name": "python3"
  },
  "language_info": {
   "codemirror_mode": {
    "name": "ipython",
    "version": 3
   },
   "file_extension": ".py",
   "mimetype": "text/x-python",
   "name": "python",
   "nbconvert_exporter": "python",
   "pygments_lexer": "ipython3",
   "version": "3.9.7"
  }
 },
 "nbformat": 4,
 "nbformat_minor": 5
}
