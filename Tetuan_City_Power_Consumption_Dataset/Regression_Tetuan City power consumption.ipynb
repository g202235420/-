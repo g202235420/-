{
 "cells": [
  {
   "cell_type": "code",
   "execution_count": 1,
   "id": "e2a47277",
   "metadata": {
    "scrolled": true
   },
   "outputs": [],
   "source": [
    "# warning 무시하기\n",
    "import warnings\n",
    "warnings.filterwarnings(action='ignore')\n",
    "import matplotlib.pyplot as plt\n",
    "import pandas as pd\n",
    "import numpy as np\n",
    "from sklearn.model_selection import train_test_split"
   ]
  },
  {
   "cell_type": "code",
   "execution_count": 2,
   "id": "dab6b001",
   "metadata": {},
   "outputs": [],
   "source": [
    "dataset = pd.read_csv(\"Tetuan City power consumption.csv\")"
   ]
  },
  {
   "cell_type": "code",
   "execution_count": 3,
   "id": "86cf2484",
   "metadata": {
    "scrolled": true
   },
   "outputs": [
    {
     "data": {
      "text/html": [
       "<div>\n",
       "<style scoped>\n",
       "    .dataframe tbody tr th:only-of-type {\n",
       "        vertical-align: middle;\n",
       "    }\n",
       "\n",
       "    .dataframe tbody tr th {\n",
       "        vertical-align: top;\n",
       "    }\n",
       "\n",
       "    .dataframe thead th {\n",
       "        text-align: right;\n",
       "    }\n",
       "</style>\n",
       "<table border=\"1\" class=\"dataframe\">\n",
       "  <thead>\n",
       "    <tr style=\"text-align: right;\">\n",
       "      <th></th>\n",
       "      <th>Temperature</th>\n",
       "      <th>Humidity</th>\n",
       "      <th>Wind Speed</th>\n",
       "      <th>general diffuse flows</th>\n",
       "      <th>diffuse flows</th>\n",
       "      <th>Zone 1 Power Consumption</th>\n",
       "    </tr>\n",
       "  </thead>\n",
       "  <tbody>\n",
       "    <tr>\n",
       "      <th>0</th>\n",
       "      <td>6.559</td>\n",
       "      <td>73.8</td>\n",
       "      <td>0.083</td>\n",
       "      <td>0.051</td>\n",
       "      <td>0.119</td>\n",
       "      <td>34055.69620</td>\n",
       "    </tr>\n",
       "    <tr>\n",
       "      <th>1</th>\n",
       "      <td>6.414</td>\n",
       "      <td>74.5</td>\n",
       "      <td>0.083</td>\n",
       "      <td>0.070</td>\n",
       "      <td>0.085</td>\n",
       "      <td>29814.68354</td>\n",
       "    </tr>\n",
       "    <tr>\n",
       "      <th>2</th>\n",
       "      <td>6.313</td>\n",
       "      <td>74.5</td>\n",
       "      <td>0.080</td>\n",
       "      <td>0.062</td>\n",
       "      <td>0.100</td>\n",
       "      <td>29128.10127</td>\n",
       "    </tr>\n",
       "    <tr>\n",
       "      <th>3</th>\n",
       "      <td>6.121</td>\n",
       "      <td>75.0</td>\n",
       "      <td>0.083</td>\n",
       "      <td>0.091</td>\n",
       "      <td>0.096</td>\n",
       "      <td>28228.86076</td>\n",
       "    </tr>\n",
       "    <tr>\n",
       "      <th>4</th>\n",
       "      <td>5.921</td>\n",
       "      <td>75.7</td>\n",
       "      <td>0.081</td>\n",
       "      <td>0.048</td>\n",
       "      <td>0.085</td>\n",
       "      <td>27335.69620</td>\n",
       "    </tr>\n",
       "    <tr>\n",
       "      <th>...</th>\n",
       "      <td>...</td>\n",
       "      <td>...</td>\n",
       "      <td>...</td>\n",
       "      <td>...</td>\n",
       "      <td>...</td>\n",
       "      <td>...</td>\n",
       "    </tr>\n",
       "    <tr>\n",
       "      <th>52411</th>\n",
       "      <td>7.010</td>\n",
       "      <td>72.4</td>\n",
       "      <td>0.080</td>\n",
       "      <td>0.040</td>\n",
       "      <td>0.096</td>\n",
       "      <td>31160.45627</td>\n",
       "    </tr>\n",
       "    <tr>\n",
       "      <th>52412</th>\n",
       "      <td>6.947</td>\n",
       "      <td>72.6</td>\n",
       "      <td>0.082</td>\n",
       "      <td>0.051</td>\n",
       "      <td>0.093</td>\n",
       "      <td>30430.41825</td>\n",
       "    </tr>\n",
       "    <tr>\n",
       "      <th>52413</th>\n",
       "      <td>6.900</td>\n",
       "      <td>72.8</td>\n",
       "      <td>0.086</td>\n",
       "      <td>0.084</td>\n",
       "      <td>0.074</td>\n",
       "      <td>29590.87452</td>\n",
       "    </tr>\n",
       "    <tr>\n",
       "      <th>52414</th>\n",
       "      <td>6.758</td>\n",
       "      <td>73.0</td>\n",
       "      <td>0.080</td>\n",
       "      <td>0.066</td>\n",
       "      <td>0.089</td>\n",
       "      <td>28958.17490</td>\n",
       "    </tr>\n",
       "    <tr>\n",
       "      <th>52415</th>\n",
       "      <td>6.580</td>\n",
       "      <td>74.1</td>\n",
       "      <td>0.081</td>\n",
       "      <td>0.062</td>\n",
       "      <td>0.111</td>\n",
       "      <td>28349.80989</td>\n",
       "    </tr>\n",
       "  </tbody>\n",
       "</table>\n",
       "<p>52416 rows × 6 columns</p>\n",
       "</div>"
      ],
      "text/plain": [
       "       Temperature  Humidity  Wind Speed  general diffuse flows  \\\n",
       "0            6.559      73.8       0.083                  0.051   \n",
       "1            6.414      74.5       0.083                  0.070   \n",
       "2            6.313      74.5       0.080                  0.062   \n",
       "3            6.121      75.0       0.083                  0.091   \n",
       "4            5.921      75.7       0.081                  0.048   \n",
       "...            ...       ...         ...                    ...   \n",
       "52411        7.010      72.4       0.080                  0.040   \n",
       "52412        6.947      72.6       0.082                  0.051   \n",
       "52413        6.900      72.8       0.086                  0.084   \n",
       "52414        6.758      73.0       0.080                  0.066   \n",
       "52415        6.580      74.1       0.081                  0.062   \n",
       "\n",
       "       diffuse flows  Zone 1 Power Consumption  \n",
       "0              0.119               34055.69620  \n",
       "1              0.085               29814.68354  \n",
       "2              0.100               29128.10127  \n",
       "3              0.096               28228.86076  \n",
       "4              0.085               27335.69620  \n",
       "...              ...                       ...  \n",
       "52411          0.096               31160.45627  \n",
       "52412          0.093               30430.41825  \n",
       "52413          0.074               29590.87452  \n",
       "52414          0.089               28958.17490  \n",
       "52415          0.111               28349.80989  \n",
       "\n",
       "[52416 rows x 6 columns]"
      ]
     },
     "execution_count": 3,
     "metadata": {},
     "output_type": "execute_result"
    }
   ],
   "source": [
    "dataset"
   ]
  },
  {
   "cell_type": "code",
   "execution_count": 4,
   "id": "533a9d52",
   "metadata": {},
   "outputs": [
    {
     "data": {
      "text/plain": [
       "Temperature                 0\n",
       "Humidity                    0\n",
       "Wind Speed                  0\n",
       "general diffuse flows       0\n",
       "diffuse flows               0\n",
       "Zone 1 Power Consumption    0\n",
       "dtype: int64"
      ]
     },
     "execution_count": 4,
     "metadata": {},
     "output_type": "execute_result"
    }
   ],
   "source": [
    "dataset.isnull().sum()"
   ]
  },
  {
   "cell_type": "code",
   "execution_count": 5,
   "id": "062f0a9b",
   "metadata": {},
   "outputs": [
    {
     "data": {
      "image/png": "[encoded data removed]",
      "text/plain": [
       "<Figure size 640x480 with 1 Axes>"
      ]
     },
     "metadata": {},
     "output_type": "display_data"
    }
   ],
   "source": [
    "dataset.describe()\n",
    "plt.hist(dataset['Zone 1 Power Consumption'])\n",
    "plt.title('Zone 1 Power Consumption')\n",
    "plt.show()"
   ]
  },
  {
   "cell_type": "code",
   "execution_count": 6,
   "id": "7ddfecca",
   "metadata": {},
   "outputs": [],
   "source": [
    "X=dataset[['Temperature','Humidity','Wind Speed']]\n",
    "Y=dataset[['Zone 1 Power Consumption']]"
   ]
  },
  {
   "cell_type": "code",
   "execution_count": 7,
   "id": "277b3cc0",
   "metadata": {},
   "outputs": [],
   "source": [
    "X_train, X_test, y_train, y_test = train_test_split(X, Y,test_size=0.25,random_state=42)"
   ]
  },
  {
   "cell_type": "code",
   "execution_count": 8,
   "id": "0e0c372d",
   "metadata": {},
   "outputs": [],
   "source": [
    "X_train = X_train.to_numpy()\n",
    "y_train = y_train.to_numpy()\n",
    "X_test = X_test.to_numpy()\n",
    "y_test = y_test.to_numpy()"
   ]
  },
  {
   "cell_type": "code",
   "execution_count": 9,
   "id": "9391b94c",
   "metadata": {},
   "outputs": [
    {
     "name": "stdout",
     "output_type": "stream",
     "text": [
      "Model: \"sequential\"\n",
      "_________________________________________________________________\n",
      " Layer (type)                Output Shape              Param #   \n",
      "=================================================================\n",
      " dense (Dense)               (None, 32)                128       \n",
      "                                                                 \n",
      " dense_1 (Dense)             (None, 16)                528       \n",
      "                                                                 \n",
      " dense_2 (Dense)             (None, 8)                 136       \n",
      "                                                                 \n",
      " dense_3 (Dense)             (None, 1)                 9         \n",
      "                                                                 \n",
      "=================================================================\n",
      "Total params: 801\n",
      "Trainable params: 801\n",
      "Non-trainable params: 0\n",
      "_________________________________________________________________\n"
     ]
    }
   ],
   "source": [
    "from tensorflow.keras.models import Sequential\n",
    "from tensorflow.keras.layers import Dense\n",
    "\n",
    "model = Sequential()\n",
    "model.add(Dense(32, activation = 'relu', input_shape = (3,)))\n",
    "model.add(Dense(16, activation = 'relu'))\n",
    "model.add(Dense(8, activation = 'relu'))\n",
    "model.add(Dense(1))\n",
    "model.compile(optimizer = 'rmsprop', loss = 'mse', metrics = ['mae'])\n",
    "\n",
    "model.summary()"
   ]
  },
  {
   "cell_type": "code",
   "execution_count": 10,
   "id": "6acdc726",
   "metadata": {},
   "outputs": [
    {
     "name": "stdout",
     "output_type": "stream",
     "text": [
      "Epoch 1/70\n",
      "1229/1229 [==============================] - 6s 4ms/step - loss: 504520512.0000 - mae: 18709.5469 - val_loss: 76778696.0000 - val_mae: 7305.1543\n",
      "Epoch 2/70\n",
      "1229/1229 [==============================] - 5s 4ms/step - loss: 63467716.0000 - mae: 6558.4624 - val_loss: 56655432.0000 - val_mae: 6070.5640\n",
      "Epoch 3/70\n",
      "1229/1229 [==============================] - 5s 4ms/step - loss: 53544016.0000 - mae: 5878.4609 - val_loss: 53049180.0000 - val_mae: 5803.1592\n",
      "Epoch 4/70\n",
      "1229/1229 [==============================] - 5s 4ms/step - loss: 51609632.0000 - mae: 5743.6440 - val_loss: 51865972.0000 - val_mae: 5794.6733\n",
      "Epoch 5/70\n",
      "1229/1229 [==============================] - 5s 4ms/step - loss: 50996168.0000 - mae: 5707.9810 - val_loss: 51378248.0000 - val_mae: 5735.5029\n",
      "Epoch 6/70\n",
      "1229/1229 [==============================] - 5s 4ms/step - loss: 50627416.0000 - mae: 5688.7227 - val_loss: 51195092.0000 - val_mae: 5710.7188\n",
      "Epoch 7/70\n",
      "1229/1229 [==============================] - 5s 4ms/step - loss: 50443776.0000 - mae: 5680.5410 - val_loss: 50896096.0000 - val_mae: 5703.8652\n",
      "Epoch 8/70\n",
      "1229/1229 [==============================] - 5s 4ms/step - loss: 50209596.0000 - mae: 5667.3828 - val_loss: 50605788.0000 - val_mae: 5703.7002\n",
      "Epoch 9/70\n",
      "1229/1229 [==============================] - 5s 4ms/step - loss: 49980324.0000 - mae: 5654.0146 - val_loss: 51064888.0000 - val_mae: 5662.3008\n",
      "Epoch 10/70\n",
      "1229/1229 [==============================] - 5s 4ms/step - loss: 49722540.0000 - mae: 5641.7856 - val_loss: 50436492.0000 - val_mae: 5751.2490\n",
      "Epoch 11/70\n",
      "1229/1229 [==============================] - 5s 4ms/step - loss: 49475332.0000 - mae: 5629.0991 - val_loss: 49890612.0000 - val_mae: 5651.2300\n",
      "Epoch 12/70\n",
      "1229/1229 [==============================] - 5s 4ms/step - loss: 49222040.0000 - mae: 5615.9033 - val_loss: 49608652.0000 - val_mae: 5639.5664\n",
      "Epoch 13/70\n",
      "1229/1229 [==============================] - 5s 4ms/step - loss: 48946200.0000 - mae: 5601.2861 - val_loss: 49515000.0000 - val_mae: 5608.4888\n",
      "Epoch 14/70\n",
      "1229/1229 [==============================] - 4s 4ms/step - loss: 48657732.0000 - mae: 5583.4492 - val_loss: 49354136.0000 - val_mae: 5695.5103\n",
      "Epoch 15/70\n",
      "1229/1229 [==============================] - 5s 4ms/step - loss: 48338116.0000 - mae: 5564.9863 - val_loss: 48664612.0000 - val_mae: 5592.4800\n",
      "Epoch 16/70\n",
      "1229/1229 [==============================] - 5s 4ms/step - loss: 48027652.0000 - mae: 5548.8403 - val_loss: 48860652.0000 - val_mae: 5550.5112\n",
      "Epoch 17/70\n",
      "1229/1229 [==============================] - 5s 4ms/step - loss: 47707216.0000 - mae: 5531.9189 - val_loss: 48002436.0000 - val_mae: 5549.0991\n",
      "Epoch 18/70\n",
      "1229/1229 [==============================] - 5s 4ms/step - loss: 47331692.0000 - mae: 5515.1753 - val_loss: 47614788.0000 - val_mae: 5572.5078\n",
      "Epoch 19/70\n",
      "1229/1229 [==============================] - 5s 4ms/step - loss: 46956812.0000 - mae: 5494.0112 - val_loss: 47195708.0000 - val_mae: 5551.6875\n",
      "Epoch 20/70\n",
      "1229/1229 [==============================] - 5s 4ms/step - loss: 46504872.0000 - mae: 5469.9570 - val_loss: 46722192.0000 - val_mae: 5487.4150\n",
      "Epoch 21/70\n",
      "1229/1229 [==============================] - 5s 4ms/step - loss: 46059048.0000 - mae: 5448.9297 - val_loss: 46247692.0000 - val_mae: 5499.8613\n",
      "Epoch 22/70\n",
      "1229/1229 [==============================] - 5s 4ms/step - loss: 45579296.0000 - mae: 5422.8779 - val_loss: 46271688.0000 - val_mae: 5416.5928\n",
      "Epoch 23/70\n",
      "1229/1229 [==============================] - 5s 4ms/step - loss: 45085768.0000 - mae: 5395.8521 - val_loss: 45350208.0000 - val_mae: 5392.5732\n",
      "Epoch 24/70\n",
      "1229/1229 [==============================] - 5s 4ms/step - loss: 44516272.0000 - mae: 5367.6440 - val_loss: 44563320.0000 - val_mae: 5377.3613\n",
      "Epoch 25/70\n",
      "1229/1229 [==============================] - 5s 4ms/step - loss: 43929636.0000 - mae: 5338.8960 - val_loss: 43911992.0000 - val_mae: 5348.8105\n",
      "Epoch 26/70\n",
      "1229/1229 [==============================] - 5s 4ms/step - loss: 43323612.0000 - mae: 5306.8726 - val_loss: 43389800.0000 - val_mae: 5300.7949\n",
      "Epoch 27/70\n",
      "1229/1229 [==============================] - 5s 4ms/step - loss: 42704032.0000 - mae: 5276.8608 - val_loss: 42674684.0000 - val_mae: 5319.4858\n",
      "Epoch 28/70\n",
      "1229/1229 [==============================] - 5s 4ms/step - loss: 42132988.0000 - mae: 5246.6465 - val_loss: 42260704.0000 - val_mae: 5230.4189\n",
      "Epoch 29/70\n",
      "1229/1229 [==============================] - 5s 4ms/step - loss: 41574232.0000 - mae: 5217.9385 - val_loss: 41570388.0000 - val_mae: 5217.8047\n",
      "Epoch 30/70\n",
      "1229/1229 [==============================] - 5s 4ms/step - loss: 41126844.0000 - mae: 5193.0415 - val_loss: 41171700.0000 - val_mae: 5256.7412\n",
      "Epoch 31/70\n",
      "1229/1229 [==============================] - 5s 4ms/step - loss: 40759076.0000 - mae: 5174.7061 - val_loss: 41270700.0000 - val_mae: 5147.8701\n",
      "Epoch 32/70\n",
      "1229/1229 [==============================] - 4s 4ms/step - loss: 40470504.0000 - mae: 5156.6328 - val_loss: 40436136.0000 - val_mae: 5154.7373\n",
      "Epoch 33/70\n",
      "1229/1229 [==============================] - 5s 4ms/step - loss: 40273144.0000 - mae: 5146.5811 - val_loss: 41282680.0000 - val_mae: 5126.4634\n",
      "Epoch 34/70\n",
      "1229/1229 [==============================] - 5s 4ms/step - loss: 40139500.0000 - mae: 5137.1924 - val_loss: 40322680.0000 - val_mae: 5119.7891\n",
      "Epoch 35/70\n",
      "1229/1229 [==============================] - 5s 4ms/step - loss: 40039868.0000 - mae: 5130.0938 - val_loss: 40262216.0000 - val_mae: 5113.0024\n",
      "Epoch 36/70\n",
      "1229/1229 [==============================] - 5s 4ms/step - loss: 39978472.0000 - mae: 5124.2891 - val_loss: 39955468.0000 - val_mae: 5114.2295\n",
      "Epoch 37/70\n",
      "1229/1229 [==============================] - 5s 4ms/step - loss: 39920520.0000 - mae: 5116.2729 - val_loss: 40216956.0000 - val_mae: 5091.4385\n",
      "Epoch 38/70\n",
      "1229/1229 [==============================] - 5s 4ms/step - loss: 39831336.0000 - mae: 5109.3311 - val_loss: 39966924.0000 - val_mae: 5087.1250\n",
      "Epoch 39/70\n",
      "1229/1229 [==============================] - 5s 4ms/step - loss: 39845444.0000 - mae: 5105.7637 - val_loss: 40710604.0000 - val_mae: 5271.9604\n",
      "Epoch 40/70\n",
      "1229/1229 [==============================] - 5s 4ms/step - loss: 39795268.0000 - mae: 5100.8130 - val_loss: 39810776.0000 - val_mae: 5156.7661\n",
      "Epoch 41/70\n",
      "1229/1229 [==============================] - 5s 4ms/step - loss: 39724792.0000 - mae: 5093.6470 - val_loss: 40280464.0000 - val_mae: 5086.9404\n",
      "Epoch 42/70\n",
      "1229/1229 [==============================] - 5s 4ms/step - loss: 39709376.0000 - mae: 5091.3340 - val_loss: 39675128.0000 - val_mae: 5086.0308\n",
      "Epoch 43/70\n",
      "1229/1229 [==============================] - 5s 4ms/step - loss: 39700348.0000 - mae: 5089.3525 - val_loss: 39897964.0000 - val_mae: 5068.4775\n",
      "Epoch 44/70\n",
      "1229/1229 [==============================] - 5s 4ms/step - loss: 39630020.0000 - mae: 5080.7393 - val_loss: 39703308.0000 - val_mae: 5143.3242\n",
      "Epoch 45/70\n",
      "1229/1229 [==============================] - 5s 4ms/step - loss: 39639496.0000 - mae: 5082.0825 - val_loss: 39592072.0000 - val_mae: 5079.8442\n",
      "Epoch 46/70\n",
      "1229/1229 [==============================] - 5s 4ms/step - loss: 39623612.0000 - mae: 5078.2212 - val_loss: 39732344.0000 - val_mae: 5061.7886\n",
      "Epoch 47/70\n",
      "1229/1229 [==============================] - 4s 3ms/step - loss: 39569564.0000 - mae: 5075.9307 - val_loss: 39527244.0000 - val_mae: 5081.4468\n",
      "Epoch 48/70\n",
      "1229/1229 [==============================] - 5s 4ms/step - loss: 39595396.0000 - mae: 5075.8457 - val_loss: 39575536.0000 - val_mae: 5068.4751\n",
      "Epoch 49/70\n",
      "1229/1229 [==============================] - 4s 4ms/step - loss: 39590604.0000 - mae: 5073.7749 - val_loss: 39518480.0000 - val_mae: 5103.6147\n",
      "Epoch 50/70\n",
      "1229/1229 [==============================] - 4s 3ms/step - loss: 39558176.0000 - mae: 5072.4238 - val_loss: 39483284.0000 - val_mae: 5092.2114\n",
      "Epoch 51/70\n",
      "1229/1229 [==============================] - 5s 4ms/step - loss: 39566812.0000 - mae: 5073.3721 - val_loss: 39857080.0000 - val_mae: 5048.1309\n",
      "Epoch 52/70\n",
      "1229/1229 [==============================] - 5s 4ms/step - loss: 39525060.0000 - mae: 5066.9448 - val_loss: 39504828.0000 - val_mae: 5067.4448\n",
      "Epoch 53/70\n",
      "1229/1229 [==============================] - 5s 4ms/step - loss: 39518196.0000 - mae: 5069.3262 - val_loss: 39449264.0000 - val_mae: 5076.4424\n"
     ]
    },
    {
     "name": "stdout",
     "output_type": "stream",
     "text": [
      "Epoch 54/70\n",
      "1229/1229 [==============================] - 5s 4ms/step - loss: 39517592.0000 - mae: 5065.5659 - val_loss: 39585392.0000 - val_mae: 5058.1943\n",
      "Epoch 55/70\n",
      "1229/1229 [==============================] - 5s 4ms/step - loss: 39504900.0000 - mae: 5063.3091 - val_loss: 39427572.0000 - val_mae: 5073.0396\n",
      "Epoch 56/70\n",
      "1229/1229 [==============================] - 5s 4ms/step - loss: 39486248.0000 - mae: 5063.2476 - val_loss: 39641184.0000 - val_mae: 5046.3506\n",
      "Epoch 57/70\n",
      "1229/1229 [==============================] - 5s 4ms/step - loss: 39471084.0000 - mae: 5059.3091 - val_loss: 41079244.0000 - val_mae: 5043.3330\n",
      "Epoch 58/70\n",
      "1229/1229 [==============================] - 5s 4ms/step - loss: 39467848.0000 - mae: 5059.2334 - val_loss: 39412164.0000 - val_mae: 5074.4707\n",
      "Epoch 59/70\n",
      "1229/1229 [==============================] - 5s 4ms/step - loss: 39487076.0000 - mae: 5060.3633 - val_loss: 40102328.0000 - val_mae: 5035.8618\n",
      "Epoch 60/70\n",
      "1229/1229 [==============================] - 5s 4ms/step - loss: 39410512.0000 - mae: 5052.2788 - val_loss: 39431136.0000 - val_mae: 5086.1924\n",
      "Epoch 61/70\n",
      "1229/1229 [==============================] - 5s 4ms/step - loss: 39326216.0000 - mae: 5048.6436 - val_loss: 39876316.0000 - val_mae: 5025.3071\n",
      "Epoch 62/70\n",
      "1229/1229 [==============================] - 4s 3ms/step - loss: 39260052.0000 - mae: 5041.8911 - val_loss: 39521092.0000 - val_mae: 5039.8936\n",
      "Epoch 63/70\n",
      "1229/1229 [==============================] - 5s 4ms/step - loss: 39232920.0000 - mae: 5040.2480 - val_loss: 39281392.0000 - val_mae: 5043.1494\n",
      "Epoch 64/70\n",
      "1229/1229 [==============================] - 5s 4ms/step - loss: 39241952.0000 - mae: 5036.6328 - val_loss: 39861280.0000 - val_mae: 5169.2583\n",
      "Epoch 65/70\n",
      "1229/1229 [==============================] - 4s 3ms/step - loss: 39211548.0000 - mae: 5033.9951 - val_loss: 39373432.0000 - val_mae: 5018.7754\n",
      "Epoch 66/70\n",
      "1229/1229 [==============================] - 5s 4ms/step - loss: 39183584.0000 - mae: 5031.5879 - val_loss: 39418380.0000 - val_mae: 5106.0093\n",
      "Epoch 67/70\n",
      "1229/1229 [==============================] - 4s 3ms/step - loss: 39188116.0000 - mae: 5029.2310 - val_loss: 39261408.0000 - val_mae: 5076.2939\n",
      "Epoch 68/70\n",
      "1229/1229 [==============================] - 5s 4ms/step - loss: 39207024.0000 - mae: 5030.3799 - val_loss: 39914144.0000 - val_mae: 5167.4912\n",
      "Epoch 69/70\n",
      "1229/1229 [==============================] - 5s 4ms/step - loss: 39167920.0000 - mae: 5025.9912 - val_loss: 39184248.0000 - val_mae: 5035.2036\n",
      "Epoch 70/70\n",
      "1229/1229 [==============================] - 5s 4ms/step - loss: 39141380.0000 - mae: 5028.5195 - val_loss: 39202800.0000 - val_mae: 5027.1333\n"
     ]
    }
   ],
   "source": [
    "N_EPOCHS = 70\n",
    "history = model.fit(X_train, y_train, epochs = N_EPOCHS, validation_data=(X_test, y_test))"
   ]
  },
  {
   "cell_type": "code",
   "execution_count": 11,
   "id": "c71c04e4",
   "metadata": {},
   "outputs": [
    {
     "name": "stdout",
     "output_type": "stream",
     "text": [
      "410/410 [==============================] - 1s 2ms/step - loss: 39202800.0000 - mae: 5027.1333\n"
     ]
    }
   ],
   "source": [
    "test_mse_score, test_mae_score=model.evaluate(X_test, y_test)"
   ]
  },
  {
   "cell_type": "code",
   "execution_count": 12,
   "id": "0cb7b027",
   "metadata": {},
   "outputs": [
    {
     "data": {
      "image/png": "[encoded data removed]",
      "text/plain": [
       "<Figure size 1000x700 with 1 Axes>"
      ]
     },
     "metadata": {},
     "output_type": "display_data"
    }
   ],
   "source": [
    "plt.figure(figsize=(10,7))\n",
    "plt.plot(range(N_EPOCHS), history.history['loss'], label='train loss')\n",
    "plt.plot(range(N_EPOCHS), history.history['val_loss'], label='test loss')\n",
    "plt.xlabel('Epoch')\n",
    "plt.ylabel('Loss')\n",
    "plt.legend()\n",
    "plt.show()"
   ]
  },
  {
   "cell_type": "code",
   "execution_count": 13,
   "id": "1bf7bc12",
   "metadata": {},
   "outputs": [
    {
     "data": {
      "image/png": "[encoded data removed]",
      "text/plain": [
       "<Figure size 1000x700 with 1 Axes>"
      ]
     },
     "metadata": {},
     "output_type": "display_data"
    }
   ],
   "source": [
    "plt.figure(figsize=(10,7))\n",
    "plt.plot(range(N_EPOCHS), history.history['mae'], label='mae')\n",
    "plt.plot(range(N_EPOCHS), history.history['val_mae'], label='test mae')\n",
    "plt.xlabel('Epoch')\n",
    "plt.ylabel('Loss')\n",
    "plt.legend()\n",
    "plt.show()"
   ]
  }
 ],
 "metadata": {
  "kernelspec": {
   "display_name": "Python 3 (ipykernel)",
   "language": "python",
   "name": "python3"
  },
  "language_info": {
   "codemirror_mode": {
    "name": "ipython",
    "version": 3
   },
   "file_extension": ".py",
   "mimetype": "text/x-python",
   "name": "python",
   "nbconvert_exporter": "python",
   "pygments_lexer": "ipython3",
   "version": "3.9.7"
  }
 },
 "nbformat": 4,
 "nbformat_minor": 5
}
